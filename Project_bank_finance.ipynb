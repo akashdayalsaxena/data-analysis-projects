{
 "cells": [
  {
   "cell_type": "code",
   "execution_count": 1,
   "metadata": {},
   "outputs": [
    {
     "name": "stdout",
     "output_type": "stream",
     "text": [
      "Requirement already satisfied: xgboost in d:\\akash\\python anaconda\\lib\\site-packages (1.2.1)\n",
      "Requirement already satisfied: scipy in d:\\akash\\python anaconda\\lib\\site-packages (from xgboost) (1.3.1)\n",
      "Requirement already satisfied: numpy in d:\\akash\\python anaconda\\lib\\site-packages (from xgboost) (1.16.5)\n"
     ]
    }
   ],
   "source": [
    "!pip install xgboost"
   ]
  },
  {
   "cell_type": "code",
   "execution_count": 2,
   "metadata": {},
   "outputs": [],
   "source": [
    "import pandas as pd\n",
    "import numpy as np\n",
    "from sklearn.model_selection import RandomizedSearchCV\n",
    "from sklearn.ensemble import GradientBoostingClassifier\n",
    "#from xgboost.sklearn import XGBClassifier"
   ]
  },
  {
   "cell_type": "code",
   "execution_count": 3,
   "metadata": {},
   "outputs": [],
   "source": [
    "import pandas as pd\n",
    "import numpy as np  \n",
    "import matplotlib.pyplot as plt  \n",
    "%matplotlib inline"
   ]
  },
  {
   "cell_type": "code",
   "execution_count": 4,
   "metadata": {},
   "outputs": [
    {
     "name": "stdout",
     "output_type": "stream",
     "text": [
      "Data imported successfully\n"
     ]
    },
    {
     "data": {
      "text/html": [
       "<div>\n",
       "<style scoped>\n",
       "    .dataframe tbody tr th:only-of-type {\n",
       "        vertical-align: middle;\n",
       "    }\n",
       "\n",
       "    .dataframe tbody tr th {\n",
       "        vertical-align: top;\n",
       "    }\n",
       "\n",
       "    .dataframe thead th {\n",
       "        text-align: right;\n",
       "    }\n",
       "</style>\n",
       "<table border=\"1\" class=\"dataframe\">\n",
       "  <thead>\n",
       "    <tr style=\"text-align: right;\">\n",
       "      <th></th>\n",
       "      <th>UniqueID</th>\n",
       "      <th>disbursed_amount</th>\n",
       "      <th>asset_cost</th>\n",
       "      <th>ltv</th>\n",
       "      <th>branch_id</th>\n",
       "      <th>supplier_id</th>\n",
       "      <th>manufacturer_id</th>\n",
       "      <th>Current_pincode_ID</th>\n",
       "      <th>Date.of.Birth</th>\n",
       "      <th>Employment.Type</th>\n",
       "      <th>...</th>\n",
       "      <th>SEC.SANCTIONED.AMOUNT</th>\n",
       "      <th>SEC.DISBURSED.AMOUNT</th>\n",
       "      <th>PRIMARY.INSTAL.AMT</th>\n",
       "      <th>SEC.INSTAL.AMT</th>\n",
       "      <th>NEW.ACCTS.IN.LAST.SIX.MONTHS</th>\n",
       "      <th>DELINQUENT.ACCTS.IN.LAST.SIX.MONTHS</th>\n",
       "      <th>AVERAGE.ACCT.AGE</th>\n",
       "      <th>CREDIT.HISTORY.LENGTH</th>\n",
       "      <th>NO.OF_INQUIRIES</th>\n",
       "      <th>loan_default</th>\n",
       "    </tr>\n",
       "  </thead>\n",
       "  <tbody>\n",
       "    <tr>\n",
       "      <td>0</td>\n",
       "      <td>420825</td>\n",
       "      <td>50578</td>\n",
       "      <td>58400</td>\n",
       "      <td>89.55</td>\n",
       "      <td>67</td>\n",
       "      <td>22807</td>\n",
       "      <td>45</td>\n",
       "      <td>1441</td>\n",
       "      <td>1/1/1984</td>\n",
       "      <td>Salaried</td>\n",
       "      <td>...</td>\n",
       "      <td>0</td>\n",
       "      <td>0</td>\n",
       "      <td>0</td>\n",
       "      <td>0</td>\n",
       "      <td>0</td>\n",
       "      <td>0</td>\n",
       "      <td>0yrs 0mon</td>\n",
       "      <td>0yrs 0mon</td>\n",
       "      <td>0</td>\n",
       "      <td>0</td>\n",
       "    </tr>\n",
       "    <tr>\n",
       "      <td>1</td>\n",
       "      <td>537409</td>\n",
       "      <td>47145</td>\n",
       "      <td>65550</td>\n",
       "      <td>73.23</td>\n",
       "      <td>67</td>\n",
       "      <td>22807</td>\n",
       "      <td>45</td>\n",
       "      <td>1502</td>\n",
       "      <td>31-07-85</td>\n",
       "      <td>Self employed</td>\n",
       "      <td>...</td>\n",
       "      <td>0</td>\n",
       "      <td>0</td>\n",
       "      <td>1991</td>\n",
       "      <td>0</td>\n",
       "      <td>0</td>\n",
       "      <td>1</td>\n",
       "      <td>1yrs 11mon</td>\n",
       "      <td>1yrs 11mon</td>\n",
       "      <td>0</td>\n",
       "      <td>1</td>\n",
       "    </tr>\n",
       "    <tr>\n",
       "      <td>2</td>\n",
       "      <td>417566</td>\n",
       "      <td>53278</td>\n",
       "      <td>61360</td>\n",
       "      <td>89.63</td>\n",
       "      <td>67</td>\n",
       "      <td>22807</td>\n",
       "      <td>45</td>\n",
       "      <td>1497</td>\n",
       "      <td>24-08-85</td>\n",
       "      <td>Self employed</td>\n",
       "      <td>...</td>\n",
       "      <td>0</td>\n",
       "      <td>0</td>\n",
       "      <td>0</td>\n",
       "      <td>0</td>\n",
       "      <td>0</td>\n",
       "      <td>0</td>\n",
       "      <td>0yrs 0mon</td>\n",
       "      <td>0yrs 0mon</td>\n",
       "      <td>0</td>\n",
       "      <td>0</td>\n",
       "    </tr>\n",
       "    <tr>\n",
       "      <td>3</td>\n",
       "      <td>624493</td>\n",
       "      <td>57513</td>\n",
       "      <td>66113</td>\n",
       "      <td>88.48</td>\n",
       "      <td>67</td>\n",
       "      <td>22807</td>\n",
       "      <td>45</td>\n",
       "      <td>1501</td>\n",
       "      <td>30-12-93</td>\n",
       "      <td>Self employed</td>\n",
       "      <td>...</td>\n",
       "      <td>0</td>\n",
       "      <td>0</td>\n",
       "      <td>31</td>\n",
       "      <td>0</td>\n",
       "      <td>0</td>\n",
       "      <td>0</td>\n",
       "      <td>0yrs 8mon</td>\n",
       "      <td>1yrs 3mon</td>\n",
       "      <td>1</td>\n",
       "      <td>1</td>\n",
       "    </tr>\n",
       "    <tr>\n",
       "      <td>4</td>\n",
       "      <td>539055</td>\n",
       "      <td>52378</td>\n",
       "      <td>60300</td>\n",
       "      <td>88.39</td>\n",
       "      <td>67</td>\n",
       "      <td>22807</td>\n",
       "      <td>45</td>\n",
       "      <td>1495</td>\n",
       "      <td>9/12/1977</td>\n",
       "      <td>Self employed</td>\n",
       "      <td>...</td>\n",
       "      <td>0</td>\n",
       "      <td>0</td>\n",
       "      <td>0</td>\n",
       "      <td>0</td>\n",
       "      <td>0</td>\n",
       "      <td>0</td>\n",
       "      <td>0yrs 0mon</td>\n",
       "      <td>0yrs 0mon</td>\n",
       "      <td>1</td>\n",
       "      <td>1</td>\n",
       "    </tr>\n",
       "    <tr>\n",
       "      <td>5</td>\n",
       "      <td>518279</td>\n",
       "      <td>54513</td>\n",
       "      <td>61900</td>\n",
       "      <td>89.66</td>\n",
       "      <td>67</td>\n",
       "      <td>22807</td>\n",
       "      <td>45</td>\n",
       "      <td>1501</td>\n",
       "      <td>8/9/1990</td>\n",
       "      <td>Self employed</td>\n",
       "      <td>...</td>\n",
       "      <td>0</td>\n",
       "      <td>0</td>\n",
       "      <td>1347</td>\n",
       "      <td>0</td>\n",
       "      <td>0</td>\n",
       "      <td>0</td>\n",
       "      <td>1yrs 9mon</td>\n",
       "      <td>2yrs 0mon</td>\n",
       "      <td>0</td>\n",
       "      <td>0</td>\n",
       "    </tr>\n",
       "    <tr>\n",
       "      <td>6</td>\n",
       "      <td>529269</td>\n",
       "      <td>46349</td>\n",
       "      <td>61500</td>\n",
       "      <td>76.42</td>\n",
       "      <td>67</td>\n",
       "      <td>22807</td>\n",
       "      <td>45</td>\n",
       "      <td>1502</td>\n",
       "      <td>1/6/1988</td>\n",
       "      <td>Salaried</td>\n",
       "      <td>...</td>\n",
       "      <td>0</td>\n",
       "      <td>0</td>\n",
       "      <td>0</td>\n",
       "      <td>0</td>\n",
       "      <td>0</td>\n",
       "      <td>0</td>\n",
       "      <td>0yrs 0mon</td>\n",
       "      <td>0yrs 0mon</td>\n",
       "      <td>0</td>\n",
       "      <td>0</td>\n",
       "    </tr>\n",
       "    <tr>\n",
       "      <td>7</td>\n",
       "      <td>510278</td>\n",
       "      <td>43894</td>\n",
       "      <td>61900</td>\n",
       "      <td>71.89</td>\n",
       "      <td>67</td>\n",
       "      <td>22807</td>\n",
       "      <td>45</td>\n",
       "      <td>1501</td>\n",
       "      <td>4/10/1989</td>\n",
       "      <td>Salaried</td>\n",
       "      <td>...</td>\n",
       "      <td>0</td>\n",
       "      <td>0</td>\n",
       "      <td>0</td>\n",
       "      <td>0</td>\n",
       "      <td>0</td>\n",
       "      <td>0</td>\n",
       "      <td>0yrs 2mon</td>\n",
       "      <td>0yrs 2mon</td>\n",
       "      <td>0</td>\n",
       "      <td>0</td>\n",
       "    </tr>\n",
       "    <tr>\n",
       "      <td>8</td>\n",
       "      <td>490213</td>\n",
       "      <td>53713</td>\n",
       "      <td>61973</td>\n",
       "      <td>89.56</td>\n",
       "      <td>67</td>\n",
       "      <td>22807</td>\n",
       "      <td>45</td>\n",
       "      <td>1497</td>\n",
       "      <td>15-11-91</td>\n",
       "      <td>Self employed</td>\n",
       "      <td>...</td>\n",
       "      <td>0</td>\n",
       "      <td>0</td>\n",
       "      <td>0</td>\n",
       "      <td>0</td>\n",
       "      <td>0</td>\n",
       "      <td>0</td>\n",
       "      <td>4yrs 8mon</td>\n",
       "      <td>4yrs 8mon</td>\n",
       "      <td>1</td>\n",
       "      <td>0</td>\n",
       "    </tr>\n",
       "    <tr>\n",
       "      <td>9</td>\n",
       "      <td>510980</td>\n",
       "      <td>52603</td>\n",
       "      <td>61300</td>\n",
       "      <td>86.95</td>\n",
       "      <td>67</td>\n",
       "      <td>22807</td>\n",
       "      <td>45</td>\n",
       "      <td>1492</td>\n",
       "      <td>1/6/1968</td>\n",
       "      <td>Salaried</td>\n",
       "      <td>...</td>\n",
       "      <td>0</td>\n",
       "      <td>0</td>\n",
       "      <td>2608</td>\n",
       "      <td>0</td>\n",
       "      <td>0</td>\n",
       "      <td>0</td>\n",
       "      <td>1yrs 7mon</td>\n",
       "      <td>1yrs 7mon</td>\n",
       "      <td>0</td>\n",
       "      <td>0</td>\n",
       "    </tr>\n",
       "  </tbody>\n",
       "</table>\n",
       "<p>10 rows × 41 columns</p>\n",
       "</div>"
      ],
      "text/plain": [
       "   UniqueID  disbursed_amount  asset_cost    ltv  branch_id  supplier_id  \\\n",
       "0    420825             50578       58400  89.55         67        22807   \n",
       "1    537409             47145       65550  73.23         67        22807   \n",
       "2    417566             53278       61360  89.63         67        22807   \n",
       "3    624493             57513       66113  88.48         67        22807   \n",
       "4    539055             52378       60300  88.39         67        22807   \n",
       "5    518279             54513       61900  89.66         67        22807   \n",
       "6    529269             46349       61500  76.42         67        22807   \n",
       "7    510278             43894       61900  71.89         67        22807   \n",
       "8    490213             53713       61973  89.56         67        22807   \n",
       "9    510980             52603       61300  86.95         67        22807   \n",
       "\n",
       "   manufacturer_id  Current_pincode_ID Date.of.Birth Employment.Type  ...  \\\n",
       "0               45                1441      1/1/1984        Salaried  ...   \n",
       "1               45                1502      31-07-85   Self employed  ...   \n",
       "2               45                1497      24-08-85   Self employed  ...   \n",
       "3               45                1501      30-12-93   Self employed  ...   \n",
       "4               45                1495     9/12/1977   Self employed  ...   \n",
       "5               45                1501      8/9/1990   Self employed  ...   \n",
       "6               45                1502      1/6/1988        Salaried  ...   \n",
       "7               45                1501     4/10/1989        Salaried  ...   \n",
       "8               45                1497      15-11-91   Self employed  ...   \n",
       "9               45                1492      1/6/1968        Salaried  ...   \n",
       "\n",
       "  SEC.SANCTIONED.AMOUNT  SEC.DISBURSED.AMOUNT  PRIMARY.INSTAL.AMT  \\\n",
       "0                     0                     0                   0   \n",
       "1                     0                     0                1991   \n",
       "2                     0                     0                   0   \n",
       "3                     0                     0                  31   \n",
       "4                     0                     0                   0   \n",
       "5                     0                     0                1347   \n",
       "6                     0                     0                   0   \n",
       "7                     0                     0                   0   \n",
       "8                     0                     0                   0   \n",
       "9                     0                     0                2608   \n",
       "\n",
       "   SEC.INSTAL.AMT  NEW.ACCTS.IN.LAST.SIX.MONTHS  \\\n",
       "0               0                             0   \n",
       "1               0                             0   \n",
       "2               0                             0   \n",
       "3               0                             0   \n",
       "4               0                             0   \n",
       "5               0                             0   \n",
       "6               0                             0   \n",
       "7               0                             0   \n",
       "8               0                             0   \n",
       "9               0                             0   \n",
       "\n",
       "   DELINQUENT.ACCTS.IN.LAST.SIX.MONTHS  AVERAGE.ACCT.AGE  \\\n",
       "0                                    0         0yrs 0mon   \n",
       "1                                    1        1yrs 11mon   \n",
       "2                                    0         0yrs 0mon   \n",
       "3                                    0         0yrs 8mon   \n",
       "4                                    0         0yrs 0mon   \n",
       "5                                    0         1yrs 9mon   \n",
       "6                                    0         0yrs 0mon   \n",
       "7                                    0         0yrs 2mon   \n",
       "8                                    0         4yrs 8mon   \n",
       "9                                    0         1yrs 7mon   \n",
       "\n",
       "   CREDIT.HISTORY.LENGTH  NO.OF_INQUIRIES  loan_default  \n",
       "0              0yrs 0mon                0             0  \n",
       "1             1yrs 11mon                0             1  \n",
       "2              0yrs 0mon                0             0  \n",
       "3              1yrs 3mon                1             1  \n",
       "4              0yrs 0mon                1             1  \n",
       "5              2yrs 0mon                0             0  \n",
       "6              0yrs 0mon                0             0  \n",
       "7              0yrs 2mon                0             0  \n",
       "8              4yrs 8mon                1             0  \n",
       "9              1yrs 7mon                0             0  \n",
       "\n",
       "[10 rows x 41 columns]"
      ]
     },
     "execution_count": 4,
     "metadata": {},
     "output_type": "execute_result"
    }
   ],
   "source": [
    "file = \"D:\\\\Akash\\\\Banking Finance - DataSet.csv\"\n",
    "file_data = pd.read_csv(file)\n",
    "print(\"Data imported successfully\")\n",
    "\n",
    "file_data.head(10)"
   ]
  },
  {
   "cell_type": "code",
   "execution_count": 5,
   "metadata": {},
   "outputs": [
    {
     "data": {
      "text/plain": [
       "UniqueID                                  0\n",
       "disbursed_amount                          0\n",
       "asset_cost                                0\n",
       "ltv                                       0\n",
       "branch_id                                 0\n",
       "supplier_id                               0\n",
       "manufacturer_id                           0\n",
       "Current_pincode_ID                        0\n",
       "Date.of.Birth                             0\n",
       "Employment.Type                        7661\n",
       "DisbursalDate                             0\n",
       "State_ID                                  0\n",
       "Employee_code_ID                          0\n",
       "MobileNo_Avl_Flag                         0\n",
       "Aadhar_flag                               0\n",
       "PAN_flag                                  0\n",
       "VoterID_flag                              0\n",
       "Driving_flag                              0\n",
       "Passport_flag                             0\n",
       "PERFORM_CNS.SCORE                         0\n",
       "PERFORM_CNS.SCORE.DESCRIPTION             0\n",
       "PRI.NO.OF.ACCTS                           0\n",
       "PRI.ACTIVE.ACCTS                          0\n",
       "PRI.OVERDUE.ACCTS                         0\n",
       "PRI.CURRENT.BALANCE                       0\n",
       "PRI.SANCTIONED.AMOUNT                     0\n",
       "PRI.DISBURSED.AMOUNT                      0\n",
       "SEC.NO.OF.ACCTS                           0\n",
       "SEC.ACTIVE.ACCTS                          0\n",
       "SEC.OVERDUE.ACCTS                         0\n",
       "SEC.CURRENT.BALANCE                       0\n",
       "SEC.SANCTIONED.AMOUNT                     0\n",
       "SEC.DISBURSED.AMOUNT                      0\n",
       "PRIMARY.INSTAL.AMT                        0\n",
       "SEC.INSTAL.AMT                            0\n",
       "NEW.ACCTS.IN.LAST.SIX.MONTHS              0\n",
       "DELINQUENT.ACCTS.IN.LAST.SIX.MONTHS       0\n",
       "AVERAGE.ACCT.AGE                          0\n",
       "CREDIT.HISTORY.LENGTH                     0\n",
       "NO.OF_INQUIRIES                           0\n",
       "loan_default                              0\n",
       "dtype: int64"
      ]
     },
     "execution_count": 5,
     "metadata": {},
     "output_type": "execute_result"
    }
   ],
   "source": [
    "file_data.isna().sum()"
   ]
  },
  {
   "cell_type": "code",
   "execution_count": 6,
   "metadata": {},
   "outputs": [
    {
     "data": {
      "text/plain": [
       "UniqueID                                 int64\n",
       "disbursed_amount                         int64\n",
       "asset_cost                               int64\n",
       "ltv                                    float64\n",
       "branch_id                                int64\n",
       "supplier_id                              int64\n",
       "manufacturer_id                          int64\n",
       "Current_pincode_ID                       int64\n",
       "Date.of.Birth                           object\n",
       "Employment.Type                         object\n",
       "DisbursalDate                           object\n",
       "State_ID                                 int64\n",
       "Employee_code_ID                         int64\n",
       "MobileNo_Avl_Flag                        int64\n",
       "Aadhar_flag                              int64\n",
       "PAN_flag                                 int64\n",
       "VoterID_flag                             int64\n",
       "Driving_flag                             int64\n",
       "Passport_flag                            int64\n",
       "PERFORM_CNS.SCORE                        int64\n",
       "PERFORM_CNS.SCORE.DESCRIPTION           object\n",
       "PRI.NO.OF.ACCTS                          int64\n",
       "PRI.ACTIVE.ACCTS                         int64\n",
       "PRI.OVERDUE.ACCTS                        int64\n",
       "PRI.CURRENT.BALANCE                      int64\n",
       "PRI.SANCTIONED.AMOUNT                    int64\n",
       "PRI.DISBURSED.AMOUNT                     int64\n",
       "SEC.NO.OF.ACCTS                          int64\n",
       "SEC.ACTIVE.ACCTS                         int64\n",
       "SEC.OVERDUE.ACCTS                        int64\n",
       "SEC.CURRENT.BALANCE                      int64\n",
       "SEC.SANCTIONED.AMOUNT                    int64\n",
       "SEC.DISBURSED.AMOUNT                     int64\n",
       "PRIMARY.INSTAL.AMT                       int64\n",
       "SEC.INSTAL.AMT                           int64\n",
       "NEW.ACCTS.IN.LAST.SIX.MONTHS             int64\n",
       "DELINQUENT.ACCTS.IN.LAST.SIX.MONTHS      int64\n",
       "AVERAGE.ACCT.AGE                        object\n",
       "CREDIT.HISTORY.LENGTH                   object\n",
       "NO.OF_INQUIRIES                          int64\n",
       "loan_default                             int64\n",
       "dtype: object"
      ]
     },
     "execution_count": 6,
     "metadata": {},
     "output_type": "execute_result"
    }
   ],
   "source": [
    "file_data.dtypes"
   ]
  },
  {
   "cell_type": "code",
   "execution_count": 7,
   "metadata": {},
   "outputs": [
    {
     "data": {
      "text/plain": [
       "Index(['Date.of.Birth', 'Employment.Type', 'DisbursalDate',\n",
       "       'PERFORM_CNS.SCORE.DESCRIPTION', 'AVERAGE.ACCT.AGE',\n",
       "       'CREDIT.HISTORY.LENGTH'],\n",
       "      dtype='object')"
      ]
     },
     "execution_count": 7,
     "metadata": {},
     "output_type": "execute_result"
    }
   ],
   "source": [
    "cat=file_data.select_dtypes('object').columns\n",
    "cat"
   ]
  },
  {
   "cell_type": "code",
   "execution_count": 8,
   "metadata": {},
   "outputs": [
    {
     "data": {
      "text/plain": [
       "[('UniqueID', dtype('int64'), 233154),\n",
       " ('disbursed_amount', dtype('int64'), 24565),\n",
       " ('asset_cost', dtype('int64'), 46252),\n",
       " ('ltv', dtype('float64'), 6579),\n",
       " ('branch_id', dtype('int64'), 82),\n",
       " ('supplier_id', dtype('int64'), 2953),\n",
       " ('manufacturer_id', dtype('int64'), 11),\n",
       " ('Current_pincode_ID', dtype('int64'), 6698),\n",
       " ('Date.of.Birth', dtype('O'), 15433),\n",
       " ('Employment.Type', dtype('O'), 2),\n",
       " ('DisbursalDate', dtype('O'), 84),\n",
       " ('State_ID', dtype('int64'), 22),\n",
       " ('Employee_code_ID', dtype('int64'), 3270),\n",
       " ('MobileNo_Avl_Flag', dtype('int64'), 1),\n",
       " ('Aadhar_flag', dtype('int64'), 2),\n",
       " ('PAN_flag', dtype('int64'), 2),\n",
       " ('VoterID_flag', dtype('int64'), 2),\n",
       " ('Driving_flag', dtype('int64'), 2),\n",
       " ('Passport_flag', dtype('int64'), 2),\n",
       " ('PERFORM_CNS.SCORE', dtype('int64'), 573),\n",
       " ('PERFORM_CNS.SCORE.DESCRIPTION', dtype('O'), 20),\n",
       " ('PRI.NO.OF.ACCTS', dtype('int64'), 108),\n",
       " ('PRI.ACTIVE.ACCTS', dtype('int64'), 40),\n",
       " ('PRI.OVERDUE.ACCTS', dtype('int64'), 22),\n",
       " ('PRI.CURRENT.BALANCE', dtype('int64'), 71341),\n",
       " ('PRI.SANCTIONED.AMOUNT', dtype('int64'), 44390),\n",
       " ('PRI.DISBURSED.AMOUNT', dtype('int64'), 47909),\n",
       " ('SEC.NO.OF.ACCTS', dtype('int64'), 37),\n",
       " ('SEC.ACTIVE.ACCTS', dtype('int64'), 23),\n",
       " ('SEC.OVERDUE.ACCTS', dtype('int64'), 9),\n",
       " ('SEC.CURRENT.BALANCE', dtype('int64'), 3246),\n",
       " ('SEC.SANCTIONED.AMOUNT', dtype('int64'), 2223),\n",
       " ('SEC.DISBURSED.AMOUNT', dtype('int64'), 2553),\n",
       " ('PRIMARY.INSTAL.AMT', dtype('int64'), 28067),\n",
       " ('SEC.INSTAL.AMT', dtype('int64'), 1918),\n",
       " ('NEW.ACCTS.IN.LAST.SIX.MONTHS', dtype('int64'), 26),\n",
       " ('DELINQUENT.ACCTS.IN.LAST.SIX.MONTHS', dtype('int64'), 14),\n",
       " ('AVERAGE.ACCT.AGE', dtype('O'), 192),\n",
       " ('CREDIT.HISTORY.LENGTH', dtype('O'), 294),\n",
       " ('NO.OF_INQUIRIES', dtype('int64'), 25),\n",
       " ('loan_default', dtype('int64'), 2)]"
      ]
     },
     "execution_count": 8,
     "metadata": {},
     "output_type": "execute_result"
    }
   ],
   "source": [
    "list(zip(file_data.columns,file_data.dtypes,file_data.nunique()))"
   ]
  },
  {
   "cell_type": "code",
   "execution_count": 9,
   "metadata": {},
   "outputs": [],
   "source": [
    "file_data[\"Employment.Type\"].fillna('Others',inplace=True)"
   ]
  },
  {
   "cell_type": "code",
   "execution_count": 10,
   "metadata": {},
   "outputs": [
    {
     "data": {
      "text/plain": [
       "[('UniqueID', dtype('int64'), 233154),\n",
       " ('disbursed_amount', dtype('int64'), 24565),\n",
       " ('asset_cost', dtype('int64'), 46252),\n",
       " ('ltv', dtype('float64'), 6579),\n",
       " ('branch_id', dtype('int64'), 82),\n",
       " ('supplier_id', dtype('int64'), 2953),\n",
       " ('manufacturer_id', dtype('int64'), 11),\n",
       " ('Current_pincode_ID', dtype('int64'), 6698),\n",
       " ('Date.of.Birth', dtype('O'), 15433),\n",
       " ('Employment.Type', dtype('O'), 3),\n",
       " ('DisbursalDate', dtype('O'), 84),\n",
       " ('State_ID', dtype('int64'), 22),\n",
       " ('Employee_code_ID', dtype('int64'), 3270),\n",
       " ('MobileNo_Avl_Flag', dtype('int64'), 1),\n",
       " ('Aadhar_flag', dtype('int64'), 2),\n",
       " ('PAN_flag', dtype('int64'), 2),\n",
       " ('VoterID_flag', dtype('int64'), 2),\n",
       " ('Driving_flag', dtype('int64'), 2),\n",
       " ('Passport_flag', dtype('int64'), 2),\n",
       " ('PERFORM_CNS.SCORE', dtype('int64'), 573),\n",
       " ('PERFORM_CNS.SCORE.DESCRIPTION', dtype('O'), 20),\n",
       " ('PRI.NO.OF.ACCTS', dtype('int64'), 108),\n",
       " ('PRI.ACTIVE.ACCTS', dtype('int64'), 40),\n",
       " ('PRI.OVERDUE.ACCTS', dtype('int64'), 22),\n",
       " ('PRI.CURRENT.BALANCE', dtype('int64'), 71341),\n",
       " ('PRI.SANCTIONED.AMOUNT', dtype('int64'), 44390),\n",
       " ('PRI.DISBURSED.AMOUNT', dtype('int64'), 47909),\n",
       " ('SEC.NO.OF.ACCTS', dtype('int64'), 37),\n",
       " ('SEC.ACTIVE.ACCTS', dtype('int64'), 23),\n",
       " ('SEC.OVERDUE.ACCTS', dtype('int64'), 9),\n",
       " ('SEC.CURRENT.BALANCE', dtype('int64'), 3246),\n",
       " ('SEC.SANCTIONED.AMOUNT', dtype('int64'), 2223),\n",
       " ('SEC.DISBURSED.AMOUNT', dtype('int64'), 2553),\n",
       " ('PRIMARY.INSTAL.AMT', dtype('int64'), 28067),\n",
       " ('SEC.INSTAL.AMT', dtype('int64'), 1918),\n",
       " ('NEW.ACCTS.IN.LAST.SIX.MONTHS', dtype('int64'), 26),\n",
       " ('DELINQUENT.ACCTS.IN.LAST.SIX.MONTHS', dtype('int64'), 14),\n",
       " ('AVERAGE.ACCT.AGE', dtype('O'), 192),\n",
       " ('CREDIT.HISTORY.LENGTH', dtype('O'), 294),\n",
       " ('NO.OF_INQUIRIES', dtype('int64'), 25),\n",
       " ('loan_default', dtype('int64'), 2),\n",
       " ('Employment.Type_Salaried', dtype('uint8'), 2),\n",
       " ('Employment.Type_Self employed', dtype('uint8'), 2)]"
      ]
     },
     "execution_count": 10,
     "metadata": {},
     "output_type": "execute_result"
    }
   ],
   "source": [
    "dummy=pd.get_dummies(file_data['Employment.Type'],drop_first=True,prefix='Employment.Type')\n",
    "file_data=pd.concat((file_data,dummy),axis=1)\n",
    "list(zip(file_data.columns,file_data.dtypes,file_data.nunique()))"
   ]
  },
  {
   "cell_type": "code",
   "execution_count": 11,
   "metadata": {},
   "outputs": [],
   "source": [
    "del file_data['Employment.Type']"
   ]
  },
  {
   "cell_type": "code",
   "execution_count": 12,
   "metadata": {},
   "outputs": [],
   "source": [
    "def change_col_month(col):\n",
    "    year=int(col.split()[0].replace('yrs',''))\n",
    "    month=int(col.split()[1].replace('mon',''))\n",
    "    return year*12+month\n",
    "def calculate_age(dob):\n",
    "    if int (dob[-2:])<19:\n",
    "        year=int('20'+dob[-2:])\n",
    "    else:\n",
    "        year= int('19'+dob[-2:])\n",
    "    return (pd.to_datetime('today').year-year)"
   ]
  },
  {
   "cell_type": "code",
   "execution_count": 13,
   "metadata": {},
   "outputs": [],
   "source": [
    "file_data['Age']=file_data['Date.of.Birth'].apply(calculate_age)\n",
    "del file_data['Date.of.Birth']\n",
    "\n",
    "file_data['AVERAGE.ACCT.AGE']=file_data['AVERAGE.ACCT.AGE'].apply(change_col_month)\n",
    "file_data['CREDIT.HISTORY.LENGTH']=file_data['CREDIT.HISTORY.LENGTH'].apply(change_col_month)"
   ]
  },
  {
   "cell_type": "code",
   "execution_count": 14,
   "metadata": {},
   "outputs": [
    {
     "data": {
      "text/html": [
       "<div>\n",
       "<style scoped>\n",
       "    .dataframe tbody tr th:only-of-type {\n",
       "        vertical-align: middle;\n",
       "    }\n",
       "\n",
       "    .dataframe tbody tr th {\n",
       "        vertical-align: top;\n",
       "    }\n",
       "\n",
       "    .dataframe thead th {\n",
       "        text-align: right;\n",
       "    }\n",
       "</style>\n",
       "<table border=\"1\" class=\"dataframe\">\n",
       "  <thead>\n",
       "    <tr style=\"text-align: right;\">\n",
       "      <th></th>\n",
       "      <th>UniqueID</th>\n",
       "      <th>disbursed_amount</th>\n",
       "      <th>asset_cost</th>\n",
       "      <th>ltv</th>\n",
       "      <th>branch_id</th>\n",
       "      <th>supplier_id</th>\n",
       "      <th>manufacturer_id</th>\n",
       "      <th>Current_pincode_ID</th>\n",
       "      <th>DisbursalDate</th>\n",
       "      <th>State_ID</th>\n",
       "      <th>...</th>\n",
       "      <th>SEC.INSTAL.AMT</th>\n",
       "      <th>NEW.ACCTS.IN.LAST.SIX.MONTHS</th>\n",
       "      <th>DELINQUENT.ACCTS.IN.LAST.SIX.MONTHS</th>\n",
       "      <th>AVERAGE.ACCT.AGE</th>\n",
       "      <th>CREDIT.HISTORY.LENGTH</th>\n",
       "      <th>NO.OF_INQUIRIES</th>\n",
       "      <th>loan_default</th>\n",
       "      <th>Employment.Type_Salaried</th>\n",
       "      <th>Employment.Type_Self employed</th>\n",
       "      <th>Age</th>\n",
       "    </tr>\n",
       "  </thead>\n",
       "  <tbody>\n",
       "    <tr>\n",
       "      <td>0</td>\n",
       "      <td>420825</td>\n",
       "      <td>50578</td>\n",
       "      <td>58400</td>\n",
       "      <td>89.55</td>\n",
       "      <td>67</td>\n",
       "      <td>22807</td>\n",
       "      <td>45</td>\n",
       "      <td>1441</td>\n",
       "      <td>3/8/2018</td>\n",
       "      <td>6</td>\n",
       "      <td>...</td>\n",
       "      <td>0</td>\n",
       "      <td>0</td>\n",
       "      <td>0</td>\n",
       "      <td>0</td>\n",
       "      <td>0</td>\n",
       "      <td>0</td>\n",
       "      <td>0</td>\n",
       "      <td>1</td>\n",
       "      <td>0</td>\n",
       "      <td>37</td>\n",
       "    </tr>\n",
       "    <tr>\n",
       "      <td>1</td>\n",
       "      <td>537409</td>\n",
       "      <td>47145</td>\n",
       "      <td>65550</td>\n",
       "      <td>73.23</td>\n",
       "      <td>67</td>\n",
       "      <td>22807</td>\n",
       "      <td>45</td>\n",
       "      <td>1502</td>\n",
       "      <td>26-09-18</td>\n",
       "      <td>6</td>\n",
       "      <td>...</td>\n",
       "      <td>0</td>\n",
       "      <td>0</td>\n",
       "      <td>1</td>\n",
       "      <td>23</td>\n",
       "      <td>23</td>\n",
       "      <td>0</td>\n",
       "      <td>1</td>\n",
       "      <td>0</td>\n",
       "      <td>1</td>\n",
       "      <td>36</td>\n",
       "    </tr>\n",
       "    <tr>\n",
       "      <td>2</td>\n",
       "      <td>417566</td>\n",
       "      <td>53278</td>\n",
       "      <td>61360</td>\n",
       "      <td>89.63</td>\n",
       "      <td>67</td>\n",
       "      <td>22807</td>\n",
       "      <td>45</td>\n",
       "      <td>1497</td>\n",
       "      <td>1/8/2018</td>\n",
       "      <td>6</td>\n",
       "      <td>...</td>\n",
       "      <td>0</td>\n",
       "      <td>0</td>\n",
       "      <td>0</td>\n",
       "      <td>0</td>\n",
       "      <td>0</td>\n",
       "      <td>0</td>\n",
       "      <td>0</td>\n",
       "      <td>0</td>\n",
       "      <td>1</td>\n",
       "      <td>36</td>\n",
       "    </tr>\n",
       "    <tr>\n",
       "      <td>3</td>\n",
       "      <td>624493</td>\n",
       "      <td>57513</td>\n",
       "      <td>66113</td>\n",
       "      <td>88.48</td>\n",
       "      <td>67</td>\n",
       "      <td>22807</td>\n",
       "      <td>45</td>\n",
       "      <td>1501</td>\n",
       "      <td>26-10-18</td>\n",
       "      <td>6</td>\n",
       "      <td>...</td>\n",
       "      <td>0</td>\n",
       "      <td>0</td>\n",
       "      <td>0</td>\n",
       "      <td>8</td>\n",
       "      <td>15</td>\n",
       "      <td>1</td>\n",
       "      <td>1</td>\n",
       "      <td>0</td>\n",
       "      <td>1</td>\n",
       "      <td>28</td>\n",
       "    </tr>\n",
       "    <tr>\n",
       "      <td>4</td>\n",
       "      <td>539055</td>\n",
       "      <td>52378</td>\n",
       "      <td>60300</td>\n",
       "      <td>88.39</td>\n",
       "      <td>67</td>\n",
       "      <td>22807</td>\n",
       "      <td>45</td>\n",
       "      <td>1495</td>\n",
       "      <td>26-09-18</td>\n",
       "      <td>6</td>\n",
       "      <td>...</td>\n",
       "      <td>0</td>\n",
       "      <td>0</td>\n",
       "      <td>0</td>\n",
       "      <td>0</td>\n",
       "      <td>0</td>\n",
       "      <td>1</td>\n",
       "      <td>1</td>\n",
       "      <td>0</td>\n",
       "      <td>1</td>\n",
       "      <td>44</td>\n",
       "    </tr>\n",
       "  </tbody>\n",
       "</table>\n",
       "<p>5 rows × 42 columns</p>\n",
       "</div>"
      ],
      "text/plain": [
       "   UniqueID  disbursed_amount  asset_cost    ltv  branch_id  supplier_id  \\\n",
       "0    420825             50578       58400  89.55         67        22807   \n",
       "1    537409             47145       65550  73.23         67        22807   \n",
       "2    417566             53278       61360  89.63         67        22807   \n",
       "3    624493             57513       66113  88.48         67        22807   \n",
       "4    539055             52378       60300  88.39         67        22807   \n",
       "\n",
       "   manufacturer_id  Current_pincode_ID DisbursalDate  State_ID  ...  \\\n",
       "0               45                1441      3/8/2018         6  ...   \n",
       "1               45                1502      26-09-18         6  ...   \n",
       "2               45                1497      1/8/2018         6  ...   \n",
       "3               45                1501      26-10-18         6  ...   \n",
       "4               45                1495      26-09-18         6  ...   \n",
       "\n",
       "   SEC.INSTAL.AMT  NEW.ACCTS.IN.LAST.SIX.MONTHS  \\\n",
       "0               0                             0   \n",
       "1               0                             0   \n",
       "2               0                             0   \n",
       "3               0                             0   \n",
       "4               0                             0   \n",
       "\n",
       "   DELINQUENT.ACCTS.IN.LAST.SIX.MONTHS  AVERAGE.ACCT.AGE  \\\n",
       "0                                    0                 0   \n",
       "1                                    1                23   \n",
       "2                                    0                 0   \n",
       "3                                    0                 8   \n",
       "4                                    0                 0   \n",
       "\n",
       "   CREDIT.HISTORY.LENGTH  NO.OF_INQUIRIES  loan_default  \\\n",
       "0                      0                0             0   \n",
       "1                     23                0             1   \n",
       "2                      0                0             0   \n",
       "3                     15                1             1   \n",
       "4                      0                1             1   \n",
       "\n",
       "   Employment.Type_Salaried Employment.Type_Self employed  Age  \n",
       "0                         1                             0   37  \n",
       "1                         0                             1   36  \n",
       "2                         0                             1   36  \n",
       "3                         0                             1   28  \n",
       "4                         0                             1   44  \n",
       "\n",
       "[5 rows x 42 columns]"
      ]
     },
     "execution_count": 14,
     "metadata": {},
     "output_type": "execute_result"
    }
   ],
   "source": [
    "file_data.head()"
   ]
  },
  {
   "cell_type": "code",
   "execution_count": 15,
   "metadata": {},
   "outputs": [],
   "source": [
    "file_data['DisbursalDate']=file_data['DisbursalDate'].astype('datetime64')"
   ]
  },
  {
   "cell_type": "code",
   "execution_count": 16,
   "metadata": {},
   "outputs": [
    {
     "data": {
      "text/plain": [
       "0          3\n",
       "1          9\n",
       "2          1\n",
       "3         10\n",
       "4          9\n",
       "          ..\n",
       "233149    10\n",
       "233150    10\n",
       "233151    10\n",
       "233152     9\n",
       "233153    10\n",
       "Name: DisbursalMonth, Length: 233154, dtype: int64"
      ]
     },
     "execution_count": 16,
     "metadata": {},
     "output_type": "execute_result"
    }
   ],
   "source": [
    "file_data['DisbursalMonth']=file_data['DisbursalDate'].dt.month\n",
    "file_data['DisbursalMonth']"
   ]
  },
  {
   "cell_type": "code",
   "execution_count": 17,
   "metadata": {},
   "outputs": [],
   "source": [
    "file_data['DisbursalMonth']=pd.to_numeric(file_data['DisbursalMonth'])"
   ]
  },
  {
   "cell_type": "code",
   "execution_count": 18,
   "metadata": {},
   "outputs": [],
   "source": [
    "del file_data['DisbursalDate']"
   ]
  },
  {
   "cell_type": "code",
   "execution_count": 19,
   "metadata": {},
   "outputs": [],
   "source": [
    "del file_data['PERFORM_CNS.SCORE.DESCRIPTION']"
   ]
  },
  {
   "cell_type": "code",
   "execution_count": 20,
   "metadata": {},
   "outputs": [
    {
     "data": {
      "text/plain": [
       "UniqueID                                 int64\n",
       "disbursed_amount                         int64\n",
       "asset_cost                               int64\n",
       "ltv                                    float64\n",
       "branch_id                                int64\n",
       "supplier_id                              int64\n",
       "manufacturer_id                          int64\n",
       "Current_pincode_ID                       int64\n",
       "State_ID                                 int64\n",
       "Employee_code_ID                         int64\n",
       "MobileNo_Avl_Flag                        int64\n",
       "Aadhar_flag                              int64\n",
       "PAN_flag                                 int64\n",
       "VoterID_flag                             int64\n",
       "Driving_flag                             int64\n",
       "Passport_flag                            int64\n",
       "PERFORM_CNS.SCORE                        int64\n",
       "PRI.NO.OF.ACCTS                          int64\n",
       "PRI.ACTIVE.ACCTS                         int64\n",
       "PRI.OVERDUE.ACCTS                        int64\n",
       "PRI.CURRENT.BALANCE                      int64\n",
       "PRI.SANCTIONED.AMOUNT                    int64\n",
       "PRI.DISBURSED.AMOUNT                     int64\n",
       "SEC.NO.OF.ACCTS                          int64\n",
       "SEC.ACTIVE.ACCTS                         int64\n",
       "SEC.OVERDUE.ACCTS                        int64\n",
       "SEC.CURRENT.BALANCE                      int64\n",
       "SEC.SANCTIONED.AMOUNT                    int64\n",
       "SEC.DISBURSED.AMOUNT                     int64\n",
       "PRIMARY.INSTAL.AMT                       int64\n",
       "SEC.INSTAL.AMT                           int64\n",
       "NEW.ACCTS.IN.LAST.SIX.MONTHS             int64\n",
       "DELINQUENT.ACCTS.IN.LAST.SIX.MONTHS      int64\n",
       "AVERAGE.ACCT.AGE                         int64\n",
       "CREDIT.HISTORY.LENGTH                    int64\n",
       "NO.OF_INQUIRIES                          int64\n",
       "loan_default                             int64\n",
       "Employment.Type_Salaried                 uint8\n",
       "Employment.Type_Self employed            uint8\n",
       "Age                                      int64\n",
       "DisbursalMonth                           int64\n",
       "dtype: object"
      ]
     },
     "execution_count": 20,
     "metadata": {},
     "output_type": "execute_result"
    }
   ],
   "source": [
    "file_data.dtypes"
   ]
  },
  {
   "cell_type": "code",
   "execution_count": 21,
   "metadata": {},
   "outputs": [],
   "source": [
    "file_data.drop(['UniqueID','branch_id','supplier_id','manufacturer_id','Current_pincode_ID','State_ID','Employee_code_ID'],axis=1,inplace=True)"
   ]
  },
  {
   "cell_type": "code",
   "execution_count": 22,
   "metadata": {},
   "outputs": [
    {
     "data": {
      "text/html": [
       "<div>\n",
       "<style scoped>\n",
       "    .dataframe tbody tr th:only-of-type {\n",
       "        vertical-align: middle;\n",
       "    }\n",
       "\n",
       "    .dataframe tbody tr th {\n",
       "        vertical-align: top;\n",
       "    }\n",
       "\n",
       "    .dataframe thead th {\n",
       "        text-align: right;\n",
       "    }\n",
       "</style>\n",
       "<table border=\"1\" class=\"dataframe\">\n",
       "  <thead>\n",
       "    <tr style=\"text-align: right;\">\n",
       "      <th></th>\n",
       "      <th>disbursed_amount</th>\n",
       "      <th>asset_cost</th>\n",
       "      <th>ltv</th>\n",
       "      <th>MobileNo_Avl_Flag</th>\n",
       "      <th>Aadhar_flag</th>\n",
       "      <th>PAN_flag</th>\n",
       "      <th>VoterID_flag</th>\n",
       "      <th>Driving_flag</th>\n",
       "      <th>Passport_flag</th>\n",
       "      <th>PERFORM_CNS.SCORE</th>\n",
       "      <th>...</th>\n",
       "      <th>NEW.ACCTS.IN.LAST.SIX.MONTHS</th>\n",
       "      <th>DELINQUENT.ACCTS.IN.LAST.SIX.MONTHS</th>\n",
       "      <th>AVERAGE.ACCT.AGE</th>\n",
       "      <th>CREDIT.HISTORY.LENGTH</th>\n",
       "      <th>NO.OF_INQUIRIES</th>\n",
       "      <th>loan_default</th>\n",
       "      <th>Employment.Type_Salaried</th>\n",
       "      <th>Employment.Type_Self employed</th>\n",
       "      <th>Age</th>\n",
       "      <th>DisbursalMonth</th>\n",
       "    </tr>\n",
       "  </thead>\n",
       "  <tbody>\n",
       "    <tr>\n",
       "      <td>0</td>\n",
       "      <td>50578</td>\n",
       "      <td>58400</td>\n",
       "      <td>89.55</td>\n",
       "      <td>1</td>\n",
       "      <td>1</td>\n",
       "      <td>0</td>\n",
       "      <td>0</td>\n",
       "      <td>0</td>\n",
       "      <td>0</td>\n",
       "      <td>0</td>\n",
       "      <td>...</td>\n",
       "      <td>0</td>\n",
       "      <td>0</td>\n",
       "      <td>0</td>\n",
       "      <td>0</td>\n",
       "      <td>0</td>\n",
       "      <td>0</td>\n",
       "      <td>1</td>\n",
       "      <td>0</td>\n",
       "      <td>37</td>\n",
       "      <td>3</td>\n",
       "    </tr>\n",
       "    <tr>\n",
       "      <td>1</td>\n",
       "      <td>47145</td>\n",
       "      <td>65550</td>\n",
       "      <td>73.23</td>\n",
       "      <td>1</td>\n",
       "      <td>1</td>\n",
       "      <td>0</td>\n",
       "      <td>0</td>\n",
       "      <td>0</td>\n",
       "      <td>0</td>\n",
       "      <td>598</td>\n",
       "      <td>...</td>\n",
       "      <td>0</td>\n",
       "      <td>1</td>\n",
       "      <td>23</td>\n",
       "      <td>23</td>\n",
       "      <td>0</td>\n",
       "      <td>1</td>\n",
       "      <td>0</td>\n",
       "      <td>1</td>\n",
       "      <td>36</td>\n",
       "      <td>9</td>\n",
       "    </tr>\n",
       "    <tr>\n",
       "      <td>2</td>\n",
       "      <td>53278</td>\n",
       "      <td>61360</td>\n",
       "      <td>89.63</td>\n",
       "      <td>1</td>\n",
       "      <td>1</td>\n",
       "      <td>0</td>\n",
       "      <td>0</td>\n",
       "      <td>0</td>\n",
       "      <td>0</td>\n",
       "      <td>0</td>\n",
       "      <td>...</td>\n",
       "      <td>0</td>\n",
       "      <td>0</td>\n",
       "      <td>0</td>\n",
       "      <td>0</td>\n",
       "      <td>0</td>\n",
       "      <td>0</td>\n",
       "      <td>0</td>\n",
       "      <td>1</td>\n",
       "      <td>36</td>\n",
       "      <td>1</td>\n",
       "    </tr>\n",
       "    <tr>\n",
       "      <td>3</td>\n",
       "      <td>57513</td>\n",
       "      <td>66113</td>\n",
       "      <td>88.48</td>\n",
       "      <td>1</td>\n",
       "      <td>1</td>\n",
       "      <td>0</td>\n",
       "      <td>0</td>\n",
       "      <td>0</td>\n",
       "      <td>0</td>\n",
       "      <td>305</td>\n",
       "      <td>...</td>\n",
       "      <td>0</td>\n",
       "      <td>0</td>\n",
       "      <td>8</td>\n",
       "      <td>15</td>\n",
       "      <td>1</td>\n",
       "      <td>1</td>\n",
       "      <td>0</td>\n",
       "      <td>1</td>\n",
       "      <td>28</td>\n",
       "      <td>10</td>\n",
       "    </tr>\n",
       "    <tr>\n",
       "      <td>4</td>\n",
       "      <td>52378</td>\n",
       "      <td>60300</td>\n",
       "      <td>88.39</td>\n",
       "      <td>1</td>\n",
       "      <td>1</td>\n",
       "      <td>0</td>\n",
       "      <td>0</td>\n",
       "      <td>0</td>\n",
       "      <td>0</td>\n",
       "      <td>0</td>\n",
       "      <td>...</td>\n",
       "      <td>0</td>\n",
       "      <td>0</td>\n",
       "      <td>0</td>\n",
       "      <td>0</td>\n",
       "      <td>1</td>\n",
       "      <td>1</td>\n",
       "      <td>0</td>\n",
       "      <td>1</td>\n",
       "      <td>44</td>\n",
       "      <td>9</td>\n",
       "    </tr>\n",
       "  </tbody>\n",
       "</table>\n",
       "<p>5 rows × 34 columns</p>\n",
       "</div>"
      ],
      "text/plain": [
       "   disbursed_amount  asset_cost    ltv  MobileNo_Avl_Flag  Aadhar_flag  \\\n",
       "0             50578       58400  89.55                  1            1   \n",
       "1             47145       65550  73.23                  1            1   \n",
       "2             53278       61360  89.63                  1            1   \n",
       "3             57513       66113  88.48                  1            1   \n",
       "4             52378       60300  88.39                  1            1   \n",
       "\n",
       "   PAN_flag  VoterID_flag  Driving_flag  Passport_flag  PERFORM_CNS.SCORE  \\\n",
       "0         0             0             0              0                  0   \n",
       "1         0             0             0              0                598   \n",
       "2         0             0             0              0                  0   \n",
       "3         0             0             0              0                305   \n",
       "4         0             0             0              0                  0   \n",
       "\n",
       "   ...  NEW.ACCTS.IN.LAST.SIX.MONTHS  DELINQUENT.ACCTS.IN.LAST.SIX.MONTHS  \\\n",
       "0  ...                             0                                    0   \n",
       "1  ...                             0                                    1   \n",
       "2  ...                             0                                    0   \n",
       "3  ...                             0                                    0   \n",
       "4  ...                             0                                    0   \n",
       "\n",
       "   AVERAGE.ACCT.AGE  CREDIT.HISTORY.LENGTH  NO.OF_INQUIRIES  loan_default  \\\n",
       "0                 0                      0                0             0   \n",
       "1                23                     23                0             1   \n",
       "2                 0                      0                0             0   \n",
       "3                 8                     15                1             1   \n",
       "4                 0                      0                1             1   \n",
       "\n",
       "   Employment.Type_Salaried  Employment.Type_Self employed  Age  \\\n",
       "0                         1                              0   37   \n",
       "1                         0                              1   36   \n",
       "2                         0                              1   36   \n",
       "3                         0                              1   28   \n",
       "4                         0                              1   44   \n",
       "\n",
       "   DisbursalMonth  \n",
       "0               3  \n",
       "1               9  \n",
       "2               1  \n",
       "3              10  \n",
       "4               9  \n",
       "\n",
       "[5 rows x 34 columns]"
      ]
     },
     "execution_count": 22,
     "metadata": {},
     "output_type": "execute_result"
    }
   ],
   "source": [
    "file_data.head()"
   ]
  },
  {
   "cell_type": "code",
   "execution_count": 23,
   "metadata": {},
   "outputs": [],
   "source": [
    "file_data.drop(['MobileNo_Avl_Flag','Aadhar_flag','PAN_flag','VoterID_flag','Driving_flag','Passport_flag'],axis=1,inplace=True)"
   ]
  },
  {
   "cell_type": "code",
   "execution_count": 24,
   "metadata": {},
   "outputs": [],
   "source": [
    "import seaborn as sns\n",
    "import matplotlib.pyplot as plt\n",
    "from IPython.display import Image\n",
    "%matplotlib inline\n",
    "\n",
    "import warnings\n",
    "warnings.filterwarnings(\"ignore\")"
   ]
  },
  {
   "cell_type": "code",
   "execution_count": 25,
   "metadata": {},
   "outputs": [
    {
     "data": {
      "text/plain": [
       "<matplotlib.axes._subplots.AxesSubplot at 0xe6f7a75088>"
      ]
     },
     "execution_count": 25,
     "metadata": {},
     "output_type": "execute_result"
    },
    {
     "data": {
      "image/png": "[encoded data removed]",
      "text/plain": [
       "<Figure size 432x288 with 2 Axes>"
      ]
     },
     "metadata": {
      "needs_background": "light"
     },
     "output_type": "display_data"
    }
   ],
   "source": [
    "sns.heatmap(file_data.corr())"
   ]
  },
  {
   "cell_type": "code",
   "execution_count": 26,
   "metadata": {},
   "outputs": [],
   "source": [
    "from sklearn.model_selection import train_test_split"
   ]
  },
  {
   "cell_type": "code",
   "execution_count": 27,
   "metadata": {},
   "outputs": [],
   "source": [
    "cat=file_data.select_dtypes('object').columns"
   ]
  },
  {
   "cell_type": "code",
   "execution_count": 28,
   "metadata": {},
   "outputs": [],
   "source": [
    "from sklearn.feature_selection import SelectFromModel\n",
    "from sklearn.ensemble import RandomForestClassifier"
   ]
  },
  {
   "cell_type": "code",
   "execution_count": 42,
   "metadata": {},
   "outputs": [
    {
     "data": {
      "text/html": [
       "<div>\n",
       "<style scoped>\n",
       "    .dataframe tbody tr th:only-of-type {\n",
       "        vertical-align: middle;\n",
       "    }\n",
       "\n",
       "    .dataframe tbody tr th {\n",
       "        vertical-align: top;\n",
       "    }\n",
       "\n",
       "    .dataframe thead th {\n",
       "        text-align: right;\n",
       "    }\n",
       "</style>\n",
       "<table border=\"1\" class=\"dataframe\">\n",
       "  <thead>\n",
       "    <tr style=\"text-align: right;\">\n",
       "      <th></th>\n",
       "      <th>disbursed_amount</th>\n",
       "      <th>asset_cost</th>\n",
       "      <th>ltv</th>\n",
       "      <th>PERFORM_CNS.SCORE</th>\n",
       "      <th>PRI.NO.OF.ACCTS</th>\n",
       "      <th>PRI.ACTIVE.ACCTS</th>\n",
       "      <th>PRI.OVERDUE.ACCTS</th>\n",
       "      <th>PRI.CURRENT.BALANCE</th>\n",
       "      <th>PRI.SANCTIONED.AMOUNT</th>\n",
       "      <th>PRI.DISBURSED.AMOUNT</th>\n",
       "      <th>PRIMARY.INSTAL.AMT</th>\n",
       "      <th>NEW.ACCTS.IN.LAST.SIX.MONTHS</th>\n",
       "      <th>DELINQUENT.ACCTS.IN.LAST.SIX.MONTHS</th>\n",
       "      <th>AVERAGE.ACCT.AGE</th>\n",
       "      <th>CREDIT.HISTORY.LENGTH</th>\n",
       "      <th>NO.OF_INQUIRIES</th>\n",
       "      <th>Employment.Type_Salaried</th>\n",
       "      <th>Employment.Type_Self employed</th>\n",
       "      <th>Age</th>\n",
       "      <th>DisbursalMonth</th>\n",
       "    </tr>\n",
       "  </thead>\n",
       "  <tbody>\n",
       "    <tr>\n",
       "      <td>0</td>\n",
       "      <td>50578</td>\n",
       "      <td>58400</td>\n",
       "      <td>89.55</td>\n",
       "      <td>0</td>\n",
       "      <td>0</td>\n",
       "      <td>0</td>\n",
       "      <td>0</td>\n",
       "      <td>0</td>\n",
       "      <td>0</td>\n",
       "      <td>0</td>\n",
       "      <td>0</td>\n",
       "      <td>0</td>\n",
       "      <td>0</td>\n",
       "      <td>0</td>\n",
       "      <td>0</td>\n",
       "      <td>0</td>\n",
       "      <td>1</td>\n",
       "      <td>0</td>\n",
       "      <td>37</td>\n",
       "      <td>3</td>\n",
       "    </tr>\n",
       "    <tr>\n",
       "      <td>1</td>\n",
       "      <td>47145</td>\n",
       "      <td>65550</td>\n",
       "      <td>73.23</td>\n",
       "      <td>598</td>\n",
       "      <td>1</td>\n",
       "      <td>1</td>\n",
       "      <td>1</td>\n",
       "      <td>27600</td>\n",
       "      <td>50200</td>\n",
       "      <td>50200</td>\n",
       "      <td>1991</td>\n",
       "      <td>0</td>\n",
       "      <td>1</td>\n",
       "      <td>23</td>\n",
       "      <td>23</td>\n",
       "      <td>0</td>\n",
       "      <td>0</td>\n",
       "      <td>1</td>\n",
       "      <td>36</td>\n",
       "      <td>9</td>\n",
       "    </tr>\n",
       "    <tr>\n",
       "      <td>2</td>\n",
       "      <td>53278</td>\n",
       "      <td>61360</td>\n",
       "      <td>89.63</td>\n",
       "      <td>0</td>\n",
       "      <td>0</td>\n",
       "      <td>0</td>\n",
       "      <td>0</td>\n",
       "      <td>0</td>\n",
       "      <td>0</td>\n",
       "      <td>0</td>\n",
       "      <td>0</td>\n",
       "      <td>0</td>\n",
       "      <td>0</td>\n",
       "      <td>0</td>\n",
       "      <td>0</td>\n",
       "      <td>0</td>\n",
       "      <td>0</td>\n",
       "      <td>1</td>\n",
       "      <td>36</td>\n",
       "      <td>1</td>\n",
       "    </tr>\n",
       "    <tr>\n",
       "      <td>3</td>\n",
       "      <td>57513</td>\n",
       "      <td>66113</td>\n",
       "      <td>88.48</td>\n",
       "      <td>305</td>\n",
       "      <td>3</td>\n",
       "      <td>0</td>\n",
       "      <td>0</td>\n",
       "      <td>0</td>\n",
       "      <td>0</td>\n",
       "      <td>0</td>\n",
       "      <td>31</td>\n",
       "      <td>0</td>\n",
       "      <td>0</td>\n",
       "      <td>8</td>\n",
       "      <td>15</td>\n",
       "      <td>1</td>\n",
       "      <td>0</td>\n",
       "      <td>1</td>\n",
       "      <td>28</td>\n",
       "      <td>10</td>\n",
       "    </tr>\n",
       "    <tr>\n",
       "      <td>4</td>\n",
       "      <td>52378</td>\n",
       "      <td>60300</td>\n",
       "      <td>88.39</td>\n",
       "      <td>0</td>\n",
       "      <td>0</td>\n",
       "      <td>0</td>\n",
       "      <td>0</td>\n",
       "      <td>0</td>\n",
       "      <td>0</td>\n",
       "      <td>0</td>\n",
       "      <td>0</td>\n",
       "      <td>0</td>\n",
       "      <td>0</td>\n",
       "      <td>0</td>\n",
       "      <td>0</td>\n",
       "      <td>1</td>\n",
       "      <td>0</td>\n",
       "      <td>1</td>\n",
       "      <td>44</td>\n",
       "      <td>9</td>\n",
       "    </tr>\n",
       "    <tr>\n",
       "      <td>...</td>\n",
       "      <td>...</td>\n",
       "      <td>...</td>\n",
       "      <td>...</td>\n",
       "      <td>...</td>\n",
       "      <td>...</td>\n",
       "      <td>...</td>\n",
       "      <td>...</td>\n",
       "      <td>...</td>\n",
       "      <td>...</td>\n",
       "      <td>...</td>\n",
       "      <td>...</td>\n",
       "      <td>...</td>\n",
       "      <td>...</td>\n",
       "      <td>...</td>\n",
       "      <td>...</td>\n",
       "      <td>...</td>\n",
       "      <td>...</td>\n",
       "      <td>...</td>\n",
       "      <td>...</td>\n",
       "      <td>...</td>\n",
       "    </tr>\n",
       "    <tr>\n",
       "      <td>233149</td>\n",
       "      <td>63213</td>\n",
       "      <td>105405</td>\n",
       "      <td>60.72</td>\n",
       "      <td>735</td>\n",
       "      <td>4</td>\n",
       "      <td>3</td>\n",
       "      <td>0</td>\n",
       "      <td>390443</td>\n",
       "      <td>416133</td>\n",
       "      <td>416133</td>\n",
       "      <td>4084</td>\n",
       "      <td>0</td>\n",
       "      <td>0</td>\n",
       "      <td>21</td>\n",
       "      <td>39</td>\n",
       "      <td>0</td>\n",
       "      <td>1</td>\n",
       "      <td>0</td>\n",
       "      <td>33</td>\n",
       "      <td>10</td>\n",
       "    </tr>\n",
       "    <tr>\n",
       "      <td>233150</td>\n",
       "      <td>73651</td>\n",
       "      <td>100600</td>\n",
       "      <td>74.95</td>\n",
       "      <td>825</td>\n",
       "      <td>1</td>\n",
       "      <td>0</td>\n",
       "      <td>0</td>\n",
       "      <td>0</td>\n",
       "      <td>0</td>\n",
       "      <td>0</td>\n",
       "      <td>1565</td>\n",
       "      <td>0</td>\n",
       "      <td>0</td>\n",
       "      <td>6</td>\n",
       "      <td>6</td>\n",
       "      <td>0</td>\n",
       "      <td>0</td>\n",
       "      <td>1</td>\n",
       "      <td>33</td>\n",
       "      <td>10</td>\n",
       "    </tr>\n",
       "    <tr>\n",
       "      <td>233151</td>\n",
       "      <td>33484</td>\n",
       "      <td>71212</td>\n",
       "      <td>48.45</td>\n",
       "      <td>0</td>\n",
       "      <td>0</td>\n",
       "      <td>0</td>\n",
       "      <td>0</td>\n",
       "      <td>0</td>\n",
       "      <td>0</td>\n",
       "      <td>0</td>\n",
       "      <td>0</td>\n",
       "      <td>0</td>\n",
       "      <td>0</td>\n",
       "      <td>0</td>\n",
       "      <td>0</td>\n",
       "      <td>0</td>\n",
       "      <td>1</td>\n",
       "      <td>0</td>\n",
       "      <td>45</td>\n",
       "      <td>10</td>\n",
       "    </tr>\n",
       "    <tr>\n",
       "      <td>233152</td>\n",
       "      <td>34259</td>\n",
       "      <td>73286</td>\n",
       "      <td>49.10</td>\n",
       "      <td>0</td>\n",
       "      <td>0</td>\n",
       "      <td>0</td>\n",
       "      <td>0</td>\n",
       "      <td>0</td>\n",
       "      <td>0</td>\n",
       "      <td>0</td>\n",
       "      <td>0</td>\n",
       "      <td>0</td>\n",
       "      <td>0</td>\n",
       "      <td>0</td>\n",
       "      <td>0</td>\n",
       "      <td>0</td>\n",
       "      <td>1</td>\n",
       "      <td>0</td>\n",
       "      <td>27</td>\n",
       "      <td>9</td>\n",
       "    </tr>\n",
       "    <tr>\n",
       "      <td>233153</td>\n",
       "      <td>75751</td>\n",
       "      <td>116009</td>\n",
       "      <td>66.81</td>\n",
       "      <td>0</td>\n",
       "      <td>0</td>\n",
       "      <td>0</td>\n",
       "      <td>0</td>\n",
       "      <td>0</td>\n",
       "      <td>0</td>\n",
       "      <td>0</td>\n",
       "      <td>0</td>\n",
       "      <td>0</td>\n",
       "      <td>0</td>\n",
       "      <td>0</td>\n",
       "      <td>0</td>\n",
       "      <td>0</td>\n",
       "      <td>1</td>\n",
       "      <td>0</td>\n",
       "      <td>37</td>\n",
       "      <td>10</td>\n",
       "    </tr>\n",
       "  </tbody>\n",
       "</table>\n",
       "<p>233154 rows × 20 columns</p>\n",
       "</div>"
      ],
      "text/plain": [
       "        disbursed_amount  asset_cost    ltv  PERFORM_CNS.SCORE  \\\n",
       "0                  50578       58400  89.55                  0   \n",
       "1                  47145       65550  73.23                598   \n",
       "2                  53278       61360  89.63                  0   \n",
       "3                  57513       66113  88.48                305   \n",
       "4                  52378       60300  88.39                  0   \n",
       "...                  ...         ...    ...                ...   \n",
       "233149             63213      105405  60.72                735   \n",
       "233150             73651      100600  74.95                825   \n",
       "233151             33484       71212  48.45                  0   \n",
       "233152             34259       73286  49.10                  0   \n",
       "233153             75751      116009  66.81                  0   \n",
       "\n",
       "        PRI.NO.OF.ACCTS  PRI.ACTIVE.ACCTS  PRI.OVERDUE.ACCTS  \\\n",
       "0                     0                 0                  0   \n",
       "1                     1                 1                  1   \n",
       "2                     0                 0                  0   \n",
       "3                     3                 0                  0   \n",
       "4                     0                 0                  0   \n",
       "...                 ...               ...                ...   \n",
       "233149                4                 3                  0   \n",
       "233150                1                 0                  0   \n",
       "233151                0                 0                  0   \n",
       "233152                0                 0                  0   \n",
       "233153                0                 0                  0   \n",
       "\n",
       "        PRI.CURRENT.BALANCE  PRI.SANCTIONED.AMOUNT  PRI.DISBURSED.AMOUNT  \\\n",
       "0                         0                      0                     0   \n",
       "1                     27600                  50200                 50200   \n",
       "2                         0                      0                     0   \n",
       "3                         0                      0                     0   \n",
       "4                         0                      0                     0   \n",
       "...                     ...                    ...                   ...   \n",
       "233149               390443                 416133                416133   \n",
       "233150                    0                      0                     0   \n",
       "233151                    0                      0                     0   \n",
       "233152                    0                      0                     0   \n",
       "233153                    0                      0                     0   \n",
       "\n",
       "        PRIMARY.INSTAL.AMT  NEW.ACCTS.IN.LAST.SIX.MONTHS  \\\n",
       "0                        0                             0   \n",
       "1                     1991                             0   \n",
       "2                        0                             0   \n",
       "3                       31                             0   \n",
       "4                        0                             0   \n",
       "...                    ...                           ...   \n",
       "233149                4084                             0   \n",
       "233150                1565                             0   \n",
       "233151                   0                             0   \n",
       "233152                   0                             0   \n",
       "233153                   0                             0   \n",
       "\n",
       "        DELINQUENT.ACCTS.IN.LAST.SIX.MONTHS  AVERAGE.ACCT.AGE  \\\n",
       "0                                         0                 0   \n",
       "1                                         1                23   \n",
       "2                                         0                 0   \n",
       "3                                         0                 8   \n",
       "4                                         0                 0   \n",
       "...                                     ...               ...   \n",
       "233149                                    0                21   \n",
       "233150                                    0                 6   \n",
       "233151                                    0                 0   \n",
       "233152                                    0                 0   \n",
       "233153                                    0                 0   \n",
       "\n",
       "        CREDIT.HISTORY.LENGTH  NO.OF_INQUIRIES  Employment.Type_Salaried  \\\n",
       "0                           0                0                         1   \n",
       "1                          23                0                         0   \n",
       "2                           0                0                         0   \n",
       "3                          15                1                         0   \n",
       "4                           0                1                         0   \n",
       "...                       ...              ...                       ...   \n",
       "233149                     39                0                         1   \n",
       "233150                      6                0                         0   \n",
       "233151                      0                0                         1   \n",
       "233152                      0                0                         1   \n",
       "233153                      0                0                         1   \n",
       "\n",
       "        Employment.Type_Self employed  Age  DisbursalMonth  \n",
       "0                                   0   37               3  \n",
       "1                                   1   36               9  \n",
       "2                                   1   36               1  \n",
       "3                                   1   28              10  \n",
       "4                                   1   44               9  \n",
       "...                               ...  ...             ...  \n",
       "233149                              0   33              10  \n",
       "233150                              1   33              10  \n",
       "233151                              0   45              10  \n",
       "233152                              0   27               9  \n",
       "233153                              0   37              10  \n",
       "\n",
       "[233154 rows x 20 columns]"
      ]
     },
     "execution_count": 42,
     "metadata": {},
     "output_type": "execute_result"
    }
   ],
   "source": [
    "file_new=file_data.drop('loan_default',axis=1)\n",
    "file_new"
   ]
  },
  {
   "cell_type": "code",
   "execution_count": 30,
   "metadata": {},
   "outputs": [
    {
     "data": {
      "text/plain": [
       "0         0\n",
       "1         1\n",
       "2         0\n",
       "3         1\n",
       "4         1\n",
       "         ..\n",
       "233149    0\n",
       "233150    0\n",
       "233151    0\n",
       "233152    0\n",
       "233153    0\n",
       "Name: loan_default, Length: 233154, dtype: int64"
      ]
     },
     "execution_count": 30,
     "metadata": {},
     "output_type": "execute_result"
    }
   ],
   "source": [
    "file_target=file_data['loan_default']\n",
    "file_target"
   ]
  },
  {
   "cell_type": "code",
   "execution_count": 31,
   "metadata": {},
   "outputs": [],
   "source": [
    "forest=RandomForestClassifier(n_estimators=100,random_state=42)"
   ]
  },
  {
   "cell_type": "code",
   "execution_count": 43,
   "metadata": {},
   "outputs": [
    {
     "data": {
      "text/plain": [
       "RandomForestClassifier(bootstrap=True, class_weight=None, criterion='gini',\n",
       "                       max_depth=None, max_features='auto', max_leaf_nodes=None,\n",
       "                       min_impurity_decrease=0.0, min_impurity_split=None,\n",
       "                       min_samples_leaf=1, min_samples_split=2,\n",
       "                       min_weight_fraction_leaf=0.0, n_estimators=100,\n",
       "                       n_jobs=None, oob_score=False, random_state=42, verbose=0,\n",
       "                       warm_start=False)"
      ]
     },
     "execution_count": 43,
     "metadata": {},
     "output_type": "execute_result"
    }
   ],
   "source": [
    "forest.fit(file_new,file_target)"
   ]
  },
  {
   "cell_type": "code",
   "execution_count": 44,
   "metadata": {},
   "outputs": [
    {
     "data": {
      "text/plain": [
       "array([0.16984294, 0.17875047, 0.18084193, 0.03642372, 0.01983776,\n",
       "       0.01118643, 0.00576401, 0.03382298, 0.03179903, 0.03172032,\n",
       "       0.03240661, 0.0086909 , 0.00544152, 0.03211336, 0.034718  ,\n",
       "       0.01406219, 0.00666584, 0.00680925, 0.11343823, 0.04566451])"
      ]
     },
     "execution_count": 44,
     "metadata": {},
     "output_type": "execute_result"
    }
   ],
   "source": [
    "importances=forest.feature_importances_\n",
    "importances"
   ]
  },
  {
   "cell_type": "code",
   "execution_count": 45,
   "metadata": {},
   "outputs": [
    {
     "data": {
      "text/html": [
       "<div>\n",
       "<style scoped>\n",
       "    .dataframe tbody tr th:only-of-type {\n",
       "        vertical-align: middle;\n",
       "    }\n",
       "\n",
       "    .dataframe tbody tr th {\n",
       "        vertical-align: top;\n",
       "    }\n",
       "\n",
       "    .dataframe thead th {\n",
       "        text-align: right;\n",
       "    }\n",
       "</style>\n",
       "<table border=\"1\" class=\"dataframe\">\n",
       "  <thead>\n",
       "    <tr style=\"text-align: right;\">\n",
       "      <th></th>\n",
       "      <th>features</th>\n",
       "      <th>importance</th>\n",
       "    </tr>\n",
       "  </thead>\n",
       "  <tbody>\n",
       "    <tr>\n",
       "      <td>2</td>\n",
       "      <td>ltv</td>\n",
       "      <td>0.180842</td>\n",
       "    </tr>\n",
       "    <tr>\n",
       "      <td>1</td>\n",
       "      <td>asset_cost</td>\n",
       "      <td>0.178750</td>\n",
       "    </tr>\n",
       "    <tr>\n",
       "      <td>0</td>\n",
       "      <td>disbursed_amount</td>\n",
       "      <td>0.169843</td>\n",
       "    </tr>\n",
       "    <tr>\n",
       "      <td>18</td>\n",
       "      <td>Age</td>\n",
       "      <td>0.113438</td>\n",
       "    </tr>\n",
       "    <tr>\n",
       "      <td>19</td>\n",
       "      <td>DisbursalMonth</td>\n",
       "      <td>0.045665</td>\n",
       "    </tr>\n",
       "    <tr>\n",
       "      <td>3</td>\n",
       "      <td>PERFORM_CNS.SCORE</td>\n",
       "      <td>0.036424</td>\n",
       "    </tr>\n",
       "    <tr>\n",
       "      <td>14</td>\n",
       "      <td>CREDIT.HISTORY.LENGTH</td>\n",
       "      <td>0.034718</td>\n",
       "    </tr>\n",
       "    <tr>\n",
       "      <td>7</td>\n",
       "      <td>PRI.CURRENT.BALANCE</td>\n",
       "      <td>0.033823</td>\n",
       "    </tr>\n",
       "    <tr>\n",
       "      <td>10</td>\n",
       "      <td>PRIMARY.INSTAL.AMT</td>\n",
       "      <td>0.032407</td>\n",
       "    </tr>\n",
       "    <tr>\n",
       "      <td>13</td>\n",
       "      <td>AVERAGE.ACCT.AGE</td>\n",
       "      <td>0.032113</td>\n",
       "    </tr>\n",
       "    <tr>\n",
       "      <td>8</td>\n",
       "      <td>PRI.SANCTIONED.AMOUNT</td>\n",
       "      <td>0.031799</td>\n",
       "    </tr>\n",
       "    <tr>\n",
       "      <td>9</td>\n",
       "      <td>PRI.DISBURSED.AMOUNT</td>\n",
       "      <td>0.031720</td>\n",
       "    </tr>\n",
       "    <tr>\n",
       "      <td>4</td>\n",
       "      <td>PRI.NO.OF.ACCTS</td>\n",
       "      <td>0.019838</td>\n",
       "    </tr>\n",
       "    <tr>\n",
       "      <td>15</td>\n",
       "      <td>NO.OF_INQUIRIES</td>\n",
       "      <td>0.014062</td>\n",
       "    </tr>\n",
       "    <tr>\n",
       "      <td>5</td>\n",
       "      <td>PRI.ACTIVE.ACCTS</td>\n",
       "      <td>0.011186</td>\n",
       "    </tr>\n",
       "    <tr>\n",
       "      <td>11</td>\n",
       "      <td>NEW.ACCTS.IN.LAST.SIX.MONTHS</td>\n",
       "      <td>0.008691</td>\n",
       "    </tr>\n",
       "    <tr>\n",
       "      <td>17</td>\n",
       "      <td>Employment.Type_Self employed</td>\n",
       "      <td>0.006809</td>\n",
       "    </tr>\n",
       "    <tr>\n",
       "      <td>16</td>\n",
       "      <td>Employment.Type_Salaried</td>\n",
       "      <td>0.006666</td>\n",
       "    </tr>\n",
       "    <tr>\n",
       "      <td>6</td>\n",
       "      <td>PRI.OVERDUE.ACCTS</td>\n",
       "      <td>0.005764</td>\n",
       "    </tr>\n",
       "    <tr>\n",
       "      <td>12</td>\n",
       "      <td>DELINQUENT.ACCTS.IN.LAST.SIX.MONTHS</td>\n",
       "      <td>0.005442</td>\n",
       "    </tr>\n",
       "  </tbody>\n",
       "</table>\n",
       "</div>"
      ],
      "text/plain": [
       "                               features  importance\n",
       "2                                   ltv    0.180842\n",
       "1                            asset_cost    0.178750\n",
       "0                      disbursed_amount    0.169843\n",
       "18                                  Age    0.113438\n",
       "19                       DisbursalMonth    0.045665\n",
       "3                     PERFORM_CNS.SCORE    0.036424\n",
       "14                CREDIT.HISTORY.LENGTH    0.034718\n",
       "7                   PRI.CURRENT.BALANCE    0.033823\n",
       "10                   PRIMARY.INSTAL.AMT    0.032407\n",
       "13                     AVERAGE.ACCT.AGE    0.032113\n",
       "8                 PRI.SANCTIONED.AMOUNT    0.031799\n",
       "9                  PRI.DISBURSED.AMOUNT    0.031720\n",
       "4                       PRI.NO.OF.ACCTS    0.019838\n",
       "15                      NO.OF_INQUIRIES    0.014062\n",
       "5                      PRI.ACTIVE.ACCTS    0.011186\n",
       "11         NEW.ACCTS.IN.LAST.SIX.MONTHS    0.008691\n",
       "17        Employment.Type_Self employed    0.006809\n",
       "16             Employment.Type_Salaried    0.006666\n",
       "6                     PRI.OVERDUE.ACCTS    0.005764\n",
       "12  DELINQUENT.ACCTS.IN.LAST.SIX.MONTHS    0.005442"
      ]
     },
     "execution_count": 45,
     "metadata": {},
     "output_type": "execute_result"
    }
   ],
   "source": [
    "feat_imp_df=pd.DataFrame({'features':file_new.columns,'importance':forest.feature_importances_})\n",
    "\n",
    "feat_imp_df.sort_values('importance',ascending=False)"
   ]
  },
  {
   "cell_type": "code",
   "execution_count": 35,
   "metadata": {},
   "outputs": [],
   "source": [
    "file_data.drop(['SEC.OVERDUE.ACCTS','SEC.ACTIVE.ACCTS'],axis=1,inplace=True)"
   ]
  },
  {
   "cell_type": "code",
   "execution_count": 36,
   "metadata": {},
   "outputs": [
    {
     "data": {
      "text/html": [
       "<div>\n",
       "<style scoped>\n",
       "    .dataframe tbody tr th:only-of-type {\n",
       "        vertical-align: middle;\n",
       "    }\n",
       "\n",
       "    .dataframe tbody tr th {\n",
       "        vertical-align: top;\n",
       "    }\n",
       "\n",
       "    .dataframe thead th {\n",
       "        text-align: right;\n",
       "    }\n",
       "</style>\n",
       "<table border=\"1\" class=\"dataframe\">\n",
       "  <thead>\n",
       "    <tr style=\"text-align: right;\">\n",
       "      <th></th>\n",
       "      <th>disbursed_amount</th>\n",
       "      <th>asset_cost</th>\n",
       "      <th>ltv</th>\n",
       "      <th>PERFORM_CNS.SCORE</th>\n",
       "      <th>PRI.NO.OF.ACCTS</th>\n",
       "      <th>PRI.ACTIVE.ACCTS</th>\n",
       "      <th>PRI.OVERDUE.ACCTS</th>\n",
       "      <th>PRI.CURRENT.BALANCE</th>\n",
       "      <th>PRI.SANCTIONED.AMOUNT</th>\n",
       "      <th>PRI.DISBURSED.AMOUNT</th>\n",
       "      <th>...</th>\n",
       "      <th>NEW.ACCTS.IN.LAST.SIX.MONTHS</th>\n",
       "      <th>DELINQUENT.ACCTS.IN.LAST.SIX.MONTHS</th>\n",
       "      <th>AVERAGE.ACCT.AGE</th>\n",
       "      <th>CREDIT.HISTORY.LENGTH</th>\n",
       "      <th>NO.OF_INQUIRIES</th>\n",
       "      <th>loan_default</th>\n",
       "      <th>Employment.Type_Salaried</th>\n",
       "      <th>Employment.Type_Self employed</th>\n",
       "      <th>Age</th>\n",
       "      <th>DisbursalMonth</th>\n",
       "    </tr>\n",
       "  </thead>\n",
       "  <tbody>\n",
       "    <tr>\n",
       "      <td>0</td>\n",
       "      <td>50578</td>\n",
       "      <td>58400</td>\n",
       "      <td>89.55</td>\n",
       "      <td>0</td>\n",
       "      <td>0</td>\n",
       "      <td>0</td>\n",
       "      <td>0</td>\n",
       "      <td>0</td>\n",
       "      <td>0</td>\n",
       "      <td>0</td>\n",
       "      <td>...</td>\n",
       "      <td>0</td>\n",
       "      <td>0</td>\n",
       "      <td>0</td>\n",
       "      <td>0</td>\n",
       "      <td>0</td>\n",
       "      <td>0</td>\n",
       "      <td>1</td>\n",
       "      <td>0</td>\n",
       "      <td>37</td>\n",
       "      <td>3</td>\n",
       "    </tr>\n",
       "    <tr>\n",
       "      <td>1</td>\n",
       "      <td>47145</td>\n",
       "      <td>65550</td>\n",
       "      <td>73.23</td>\n",
       "      <td>598</td>\n",
       "      <td>1</td>\n",
       "      <td>1</td>\n",
       "      <td>1</td>\n",
       "      <td>27600</td>\n",
       "      <td>50200</td>\n",
       "      <td>50200</td>\n",
       "      <td>...</td>\n",
       "      <td>0</td>\n",
       "      <td>1</td>\n",
       "      <td>23</td>\n",
       "      <td>23</td>\n",
       "      <td>0</td>\n",
       "      <td>1</td>\n",
       "      <td>0</td>\n",
       "      <td>1</td>\n",
       "      <td>36</td>\n",
       "      <td>9</td>\n",
       "    </tr>\n",
       "    <tr>\n",
       "      <td>2</td>\n",
       "      <td>53278</td>\n",
       "      <td>61360</td>\n",
       "      <td>89.63</td>\n",
       "      <td>0</td>\n",
       "      <td>0</td>\n",
       "      <td>0</td>\n",
       "      <td>0</td>\n",
       "      <td>0</td>\n",
       "      <td>0</td>\n",
       "      <td>0</td>\n",
       "      <td>...</td>\n",
       "      <td>0</td>\n",
       "      <td>0</td>\n",
       "      <td>0</td>\n",
       "      <td>0</td>\n",
       "      <td>0</td>\n",
       "      <td>0</td>\n",
       "      <td>0</td>\n",
       "      <td>1</td>\n",
       "      <td>36</td>\n",
       "      <td>1</td>\n",
       "    </tr>\n",
       "    <tr>\n",
       "      <td>3</td>\n",
       "      <td>57513</td>\n",
       "      <td>66113</td>\n",
       "      <td>88.48</td>\n",
       "      <td>305</td>\n",
       "      <td>3</td>\n",
       "      <td>0</td>\n",
       "      <td>0</td>\n",
       "      <td>0</td>\n",
       "      <td>0</td>\n",
       "      <td>0</td>\n",
       "      <td>...</td>\n",
       "      <td>0</td>\n",
       "      <td>0</td>\n",
       "      <td>8</td>\n",
       "      <td>15</td>\n",
       "      <td>1</td>\n",
       "      <td>1</td>\n",
       "      <td>0</td>\n",
       "      <td>1</td>\n",
       "      <td>28</td>\n",
       "      <td>10</td>\n",
       "    </tr>\n",
       "    <tr>\n",
       "      <td>4</td>\n",
       "      <td>52378</td>\n",
       "      <td>60300</td>\n",
       "      <td>88.39</td>\n",
       "      <td>0</td>\n",
       "      <td>0</td>\n",
       "      <td>0</td>\n",
       "      <td>0</td>\n",
       "      <td>0</td>\n",
       "      <td>0</td>\n",
       "      <td>0</td>\n",
       "      <td>...</td>\n",
       "      <td>0</td>\n",
       "      <td>0</td>\n",
       "      <td>0</td>\n",
       "      <td>0</td>\n",
       "      <td>1</td>\n",
       "      <td>1</td>\n",
       "      <td>0</td>\n",
       "      <td>1</td>\n",
       "      <td>44</td>\n",
       "      <td>9</td>\n",
       "    </tr>\n",
       "  </tbody>\n",
       "</table>\n",
       "<p>5 rows × 26 columns</p>\n",
       "</div>"
      ],
      "text/plain": [
       "   disbursed_amount  asset_cost    ltv  PERFORM_CNS.SCORE  PRI.NO.OF.ACCTS  \\\n",
       "0             50578       58400  89.55                  0                0   \n",
       "1             47145       65550  73.23                598                1   \n",
       "2             53278       61360  89.63                  0                0   \n",
       "3             57513       66113  88.48                305                3   \n",
       "4             52378       60300  88.39                  0                0   \n",
       "\n",
       "   PRI.ACTIVE.ACCTS  PRI.OVERDUE.ACCTS  PRI.CURRENT.BALANCE  \\\n",
       "0                 0                  0                    0   \n",
       "1                 1                  1                27600   \n",
       "2                 0                  0                    0   \n",
       "3                 0                  0                    0   \n",
       "4                 0                  0                    0   \n",
       "\n",
       "   PRI.SANCTIONED.AMOUNT  PRI.DISBURSED.AMOUNT  ...  \\\n",
       "0                      0                     0  ...   \n",
       "1                  50200                 50200  ...   \n",
       "2                      0                     0  ...   \n",
       "3                      0                     0  ...   \n",
       "4                      0                     0  ...   \n",
       "\n",
       "   NEW.ACCTS.IN.LAST.SIX.MONTHS  DELINQUENT.ACCTS.IN.LAST.SIX.MONTHS  \\\n",
       "0                             0                                    0   \n",
       "1                             0                                    1   \n",
       "2                             0                                    0   \n",
       "3                             0                                    0   \n",
       "4                             0                                    0   \n",
       "\n",
       "   AVERAGE.ACCT.AGE  CREDIT.HISTORY.LENGTH  NO.OF_INQUIRIES  loan_default  \\\n",
       "0                 0                      0                0             0   \n",
       "1                23                     23                0             1   \n",
       "2                 0                      0                0             0   \n",
       "3                 8                     15                1             1   \n",
       "4                 0                      0                1             1   \n",
       "\n",
       "   Employment.Type_Salaried  Employment.Type_Self employed  Age  \\\n",
       "0                         1                              0   37   \n",
       "1                         0                              1   36   \n",
       "2                         0                              1   36   \n",
       "3                         0                              1   28   \n",
       "4                         0                              1   44   \n",
       "\n",
       "   DisbursalMonth  \n",
       "0               3  \n",
       "1               9  \n",
       "2               1  \n",
       "3              10  \n",
       "4               9  \n",
       "\n",
       "[5 rows x 26 columns]"
      ]
     },
     "execution_count": 36,
     "metadata": {},
     "output_type": "execute_result"
    }
   ],
   "source": [
    "file_data.head()"
   ]
  },
  {
   "cell_type": "code",
   "execution_count": null,
   "metadata": {},
   "outputs": [],
   "source": [
    "file_data.drop(['Employment.Type_Salaried','Employment.Type_Self employed','PRI.OVERDUE.ACCTS','DELINQUENT.ACCTS.IN.LAST.SIX.MONTHS','NEW.ACCTS.IN.LAST.SIX.MONTHS'],axis=1,inplace=True)"
   ]
  },
  {
   "cell_type": "code",
   "execution_count": 41,
   "metadata": {},
   "outputs": [],
   "source": [
    "file_data.drop(['SEC.NO.OF.ACCTS','SEC.DISBURSED.AMOUNT','SEC.SANCTIONED.AMOUNT','SEC.CURRENT.BALANCE','SEC.INSTAL.AMT'],axis=1,inplace=True)"
   ]
  },
  {
   "cell_type": "markdown",
   "metadata": {},
   "source": [
    "Dropped the above variables due the lower feature importance in the table"
   ]
  },
  {
   "cell_type": "code",
   "execution_count": 46,
   "metadata": {},
   "outputs": [
    {
     "data": {
      "text/plain": [
       "(233154, 21)"
      ]
     },
     "execution_count": 46,
     "metadata": {},
     "output_type": "execute_result"
    }
   ],
   "source": [
    "file_data.shape"
   ]
  },
  {
   "cell_type": "code",
   "execution_count": 47,
   "metadata": {},
   "outputs": [],
   "source": [
    "train,test=train_test_split(file_data,test_size=0.2,random_state=2)"
   ]
  },
  {
   "cell_type": "code",
   "execution_count": 48,
   "metadata": {},
   "outputs": [
    {
     "data": {
      "text/html": [
       "<div>\n",
       "<style scoped>\n",
       "    .dataframe tbody tr th:only-of-type {\n",
       "        vertical-align: middle;\n",
       "    }\n",
       "\n",
       "    .dataframe tbody tr th {\n",
       "        vertical-align: top;\n",
       "    }\n",
       "\n",
       "    .dataframe thead th {\n",
       "        text-align: right;\n",
       "    }\n",
       "</style>\n",
       "<table border=\"1\" class=\"dataframe\">\n",
       "  <thead>\n",
       "    <tr style=\"text-align: right;\">\n",
       "      <th></th>\n",
       "      <th>disbursed_amount</th>\n",
       "      <th>asset_cost</th>\n",
       "      <th>ltv</th>\n",
       "      <th>PERFORM_CNS.SCORE</th>\n",
       "      <th>PRI.NO.OF.ACCTS</th>\n",
       "      <th>PRI.ACTIVE.ACCTS</th>\n",
       "      <th>PRI.OVERDUE.ACCTS</th>\n",
       "      <th>PRI.CURRENT.BALANCE</th>\n",
       "      <th>PRI.SANCTIONED.AMOUNT</th>\n",
       "      <th>PRI.DISBURSED.AMOUNT</th>\n",
       "      <th>...</th>\n",
       "      <th>NEW.ACCTS.IN.LAST.SIX.MONTHS</th>\n",
       "      <th>DELINQUENT.ACCTS.IN.LAST.SIX.MONTHS</th>\n",
       "      <th>AVERAGE.ACCT.AGE</th>\n",
       "      <th>CREDIT.HISTORY.LENGTH</th>\n",
       "      <th>NO.OF_INQUIRIES</th>\n",
       "      <th>loan_default</th>\n",
       "      <th>Employment.Type_Salaried</th>\n",
       "      <th>Employment.Type_Self employed</th>\n",
       "      <th>Age</th>\n",
       "      <th>DisbursalMonth</th>\n",
       "    </tr>\n",
       "  </thead>\n",
       "  <tbody>\n",
       "    <tr>\n",
       "      <td>105676</td>\n",
       "      <td>43639</td>\n",
       "      <td>66604</td>\n",
       "      <td>70.57</td>\n",
       "      <td>0</td>\n",
       "      <td>0</td>\n",
       "      <td>0</td>\n",
       "      <td>0</td>\n",
       "      <td>0</td>\n",
       "      <td>0</td>\n",
       "      <td>0</td>\n",
       "      <td>...</td>\n",
       "      <td>0</td>\n",
       "      <td>0</td>\n",
       "      <td>0</td>\n",
       "      <td>0</td>\n",
       "      <td>1</td>\n",
       "      <td>0</td>\n",
       "      <td>0</td>\n",
       "      <td>1</td>\n",
       "      <td>31</td>\n",
       "      <td>8</td>\n",
       "    </tr>\n",
       "    <tr>\n",
       "      <td>98886</td>\n",
       "      <td>56013</td>\n",
       "      <td>68894</td>\n",
       "      <td>84.19</td>\n",
       "      <td>0</td>\n",
       "      <td>0</td>\n",
       "      <td>0</td>\n",
       "      <td>0</td>\n",
       "      <td>0</td>\n",
       "      <td>0</td>\n",
       "      <td>0</td>\n",
       "      <td>...</td>\n",
       "      <td>0</td>\n",
       "      <td>0</td>\n",
       "      <td>0</td>\n",
       "      <td>0</td>\n",
       "      <td>0</td>\n",
       "      <td>0</td>\n",
       "      <td>0</td>\n",
       "      <td>1</td>\n",
       "      <td>26</td>\n",
       "      <td>8</td>\n",
       "    </tr>\n",
       "    <tr>\n",
       "      <td>163595</td>\n",
       "      <td>58013</td>\n",
       "      <td>80870</td>\n",
       "      <td>74.19</td>\n",
       "      <td>0</td>\n",
       "      <td>0</td>\n",
       "      <td>0</td>\n",
       "      <td>0</td>\n",
       "      <td>0</td>\n",
       "      <td>0</td>\n",
       "      <td>0</td>\n",
       "      <td>...</td>\n",
       "      <td>0</td>\n",
       "      <td>0</td>\n",
       "      <td>0</td>\n",
       "      <td>0</td>\n",
       "      <td>0</td>\n",
       "      <td>0</td>\n",
       "      <td>0</td>\n",
       "      <td>1</td>\n",
       "      <td>58</td>\n",
       "      <td>8</td>\n",
       "    </tr>\n",
       "    <tr>\n",
       "      <td>208851</td>\n",
       "      <td>52578</td>\n",
       "      <td>64516</td>\n",
       "      <td>84.48</td>\n",
       "      <td>738</td>\n",
       "      <td>1</td>\n",
       "      <td>1</td>\n",
       "      <td>0</td>\n",
       "      <td>10564</td>\n",
       "      <td>20000</td>\n",
       "      <td>20000</td>\n",
       "      <td>...</td>\n",
       "      <td>0</td>\n",
       "      <td>0</td>\n",
       "      <td>6</td>\n",
       "      <td>6</td>\n",
       "      <td>0</td>\n",
       "      <td>1</td>\n",
       "      <td>0</td>\n",
       "      <td>1</td>\n",
       "      <td>39</td>\n",
       "      <td>3</td>\n",
       "    </tr>\n",
       "    <tr>\n",
       "      <td>185222</td>\n",
       "      <td>54303</td>\n",
       "      <td>73000</td>\n",
       "      <td>75.34</td>\n",
       "      <td>0</td>\n",
       "      <td>0</td>\n",
       "      <td>0</td>\n",
       "      <td>0</td>\n",
       "      <td>0</td>\n",
       "      <td>0</td>\n",
       "      <td>0</td>\n",
       "      <td>...</td>\n",
       "      <td>0</td>\n",
       "      <td>0</td>\n",
       "      <td>0</td>\n",
       "      <td>0</td>\n",
       "      <td>0</td>\n",
       "      <td>0</td>\n",
       "      <td>0</td>\n",
       "      <td>1</td>\n",
       "      <td>44</td>\n",
       "      <td>9</td>\n",
       "    </tr>\n",
       "  </tbody>\n",
       "</table>\n",
       "<p>5 rows × 21 columns</p>\n",
       "</div>"
      ],
      "text/plain": [
       "        disbursed_amount  asset_cost    ltv  PERFORM_CNS.SCORE  \\\n",
       "105676             43639       66604  70.57                  0   \n",
       "98886              56013       68894  84.19                  0   \n",
       "163595             58013       80870  74.19                  0   \n",
       "208851             52578       64516  84.48                738   \n",
       "185222             54303       73000  75.34                  0   \n",
       "\n",
       "        PRI.NO.OF.ACCTS  PRI.ACTIVE.ACCTS  PRI.OVERDUE.ACCTS  \\\n",
       "105676                0                 0                  0   \n",
       "98886                 0                 0                  0   \n",
       "163595                0                 0                  0   \n",
       "208851                1                 1                  0   \n",
       "185222                0                 0                  0   \n",
       "\n",
       "        PRI.CURRENT.BALANCE  PRI.SANCTIONED.AMOUNT  PRI.DISBURSED.AMOUNT  ...  \\\n",
       "105676                    0                      0                     0  ...   \n",
       "98886                     0                      0                     0  ...   \n",
       "163595                    0                      0                     0  ...   \n",
       "208851                10564                  20000                 20000  ...   \n",
       "185222                    0                      0                     0  ...   \n",
       "\n",
       "        NEW.ACCTS.IN.LAST.SIX.MONTHS  DELINQUENT.ACCTS.IN.LAST.SIX.MONTHS  \\\n",
       "105676                             0                                    0   \n",
       "98886                              0                                    0   \n",
       "163595                             0                                    0   \n",
       "208851                             0                                    0   \n",
       "185222                             0                                    0   \n",
       "\n",
       "        AVERAGE.ACCT.AGE  CREDIT.HISTORY.LENGTH  NO.OF_INQUIRIES  \\\n",
       "105676                 0                      0                1   \n",
       "98886                  0                      0                0   \n",
       "163595                 0                      0                0   \n",
       "208851                 6                      6                0   \n",
       "185222                 0                      0                0   \n",
       "\n",
       "        loan_default  Employment.Type_Salaried  Employment.Type_Self employed  \\\n",
       "105676             0                         0                              1   \n",
       "98886              0                         0                              1   \n",
       "163595             0                         0                              1   \n",
       "208851             1                         0                              1   \n",
       "185222             0                         0                              1   \n",
       "\n",
       "        Age  DisbursalMonth  \n",
       "105676   31               8  \n",
       "98886    26               8  \n",
       "163595   58               8  \n",
       "208851   39               3  \n",
       "185222   44               9  \n",
       "\n",
       "[5 rows x 21 columns]"
      ]
     },
     "execution_count": 48,
     "metadata": {},
     "output_type": "execute_result"
    }
   ],
   "source": [
    "train.head()"
   ]
  },
  {
   "cell_type": "code",
   "execution_count": 49,
   "metadata": {},
   "outputs": [
    {
     "data": {
      "text/html": [
       "<div>\n",
       "<style scoped>\n",
       "    .dataframe tbody tr th:only-of-type {\n",
       "        vertical-align: middle;\n",
       "    }\n",
       "\n",
       "    .dataframe tbody tr th {\n",
       "        vertical-align: top;\n",
       "    }\n",
       "\n",
       "    .dataframe thead th {\n",
       "        text-align: right;\n",
       "    }\n",
       "</style>\n",
       "<table border=\"1\" class=\"dataframe\">\n",
       "  <thead>\n",
       "    <tr style=\"text-align: right;\">\n",
       "      <th></th>\n",
       "      <th>disbursed_amount</th>\n",
       "      <th>asset_cost</th>\n",
       "      <th>ltv</th>\n",
       "      <th>PERFORM_CNS.SCORE</th>\n",
       "      <th>PRI.NO.OF.ACCTS</th>\n",
       "      <th>PRI.ACTIVE.ACCTS</th>\n",
       "      <th>PRI.OVERDUE.ACCTS</th>\n",
       "      <th>PRI.CURRENT.BALANCE</th>\n",
       "      <th>PRI.SANCTIONED.AMOUNT</th>\n",
       "      <th>PRI.DISBURSED.AMOUNT</th>\n",
       "      <th>...</th>\n",
       "      <th>NEW.ACCTS.IN.LAST.SIX.MONTHS</th>\n",
       "      <th>DELINQUENT.ACCTS.IN.LAST.SIX.MONTHS</th>\n",
       "      <th>AVERAGE.ACCT.AGE</th>\n",
       "      <th>CREDIT.HISTORY.LENGTH</th>\n",
       "      <th>NO.OF_INQUIRIES</th>\n",
       "      <th>loan_default</th>\n",
       "      <th>Employment.Type_Salaried</th>\n",
       "      <th>Employment.Type_Self employed</th>\n",
       "      <th>Age</th>\n",
       "      <th>DisbursalMonth</th>\n",
       "    </tr>\n",
       "  </thead>\n",
       "  <tbody>\n",
       "    <tr>\n",
       "      <td>154537</td>\n",
       "      <td>51503</td>\n",
       "      <td>66100</td>\n",
       "      <td>79.43</td>\n",
       "      <td>832</td>\n",
       "      <td>2</td>\n",
       "      <td>0</td>\n",
       "      <td>0</td>\n",
       "      <td>0</td>\n",
       "      <td>0</td>\n",
       "      <td>0</td>\n",
       "      <td>...</td>\n",
       "      <td>0</td>\n",
       "      <td>0</td>\n",
       "      <td>3</td>\n",
       "      <td>5</td>\n",
       "      <td>0</td>\n",
       "      <td>0</td>\n",
       "      <td>0</td>\n",
       "      <td>1</td>\n",
       "      <td>42</td>\n",
       "      <td>9</td>\n",
       "    </tr>\n",
       "    <tr>\n",
       "      <td>168253</td>\n",
       "      <td>56259</td>\n",
       "      <td>71534</td>\n",
       "      <td>79.68</td>\n",
       "      <td>0</td>\n",
       "      <td>0</td>\n",
       "      <td>0</td>\n",
       "      <td>0</td>\n",
       "      <td>0</td>\n",
       "      <td>0</td>\n",
       "      <td>0</td>\n",
       "      <td>...</td>\n",
       "      <td>0</td>\n",
       "      <td>0</td>\n",
       "      <td>0</td>\n",
       "      <td>0</td>\n",
       "      <td>0</td>\n",
       "      <td>0</td>\n",
       "      <td>1</td>\n",
       "      <td>0</td>\n",
       "      <td>25</td>\n",
       "      <td>12</td>\n",
       "    </tr>\n",
       "    <tr>\n",
       "      <td>140397</td>\n",
       "      <td>61547</td>\n",
       "      <td>73652</td>\n",
       "      <td>84.99</td>\n",
       "      <td>0</td>\n",
       "      <td>0</td>\n",
       "      <td>0</td>\n",
       "      <td>0</td>\n",
       "      <td>0</td>\n",
       "      <td>0</td>\n",
       "      <td>0</td>\n",
       "      <td>...</td>\n",
       "      <td>0</td>\n",
       "      <td>0</td>\n",
       "      <td>0</td>\n",
       "      <td>0</td>\n",
       "      <td>0</td>\n",
       "      <td>0</td>\n",
       "      <td>0</td>\n",
       "      <td>1</td>\n",
       "      <td>47</td>\n",
       "      <td>10</td>\n",
       "    </tr>\n",
       "    <tr>\n",
       "      <td>196005</td>\n",
       "      <td>46349</td>\n",
       "      <td>70634</td>\n",
       "      <td>66.54</td>\n",
       "      <td>816</td>\n",
       "      <td>4</td>\n",
       "      <td>3</td>\n",
       "      <td>0</td>\n",
       "      <td>2408134</td>\n",
       "      <td>2741489</td>\n",
       "      <td>2741489</td>\n",
       "      <td>...</td>\n",
       "      <td>0</td>\n",
       "      <td>0</td>\n",
       "      <td>39</td>\n",
       "      <td>71</td>\n",
       "      <td>0</td>\n",
       "      <td>0</td>\n",
       "      <td>0</td>\n",
       "      <td>1</td>\n",
       "      <td>48</td>\n",
       "      <td>12</td>\n",
       "    </tr>\n",
       "    <tr>\n",
       "      <td>65204</td>\n",
       "      <td>71123</td>\n",
       "      <td>100565</td>\n",
       "      <td>71.60</td>\n",
       "      <td>0</td>\n",
       "      <td>0</td>\n",
       "      <td>0</td>\n",
       "      <td>0</td>\n",
       "      <td>0</td>\n",
       "      <td>0</td>\n",
       "      <td>0</td>\n",
       "      <td>...</td>\n",
       "      <td>0</td>\n",
       "      <td>0</td>\n",
       "      <td>0</td>\n",
       "      <td>0</td>\n",
       "      <td>0</td>\n",
       "      <td>0</td>\n",
       "      <td>0</td>\n",
       "      <td>1</td>\n",
       "      <td>51</td>\n",
       "      <td>10</td>\n",
       "    </tr>\n",
       "  </tbody>\n",
       "</table>\n",
       "<p>5 rows × 21 columns</p>\n",
       "</div>"
      ],
      "text/plain": [
       "        disbursed_amount  asset_cost    ltv  PERFORM_CNS.SCORE  \\\n",
       "154537             51503       66100  79.43                832   \n",
       "168253             56259       71534  79.68                  0   \n",
       "140397             61547       73652  84.99                  0   \n",
       "196005             46349       70634  66.54                816   \n",
       "65204              71123      100565  71.60                  0   \n",
       "\n",
       "        PRI.NO.OF.ACCTS  PRI.ACTIVE.ACCTS  PRI.OVERDUE.ACCTS  \\\n",
       "154537                2                 0                  0   \n",
       "168253                0                 0                  0   \n",
       "140397                0                 0                  0   \n",
       "196005                4                 3                  0   \n",
       "65204                 0                 0                  0   \n",
       "\n",
       "        PRI.CURRENT.BALANCE  PRI.SANCTIONED.AMOUNT  PRI.DISBURSED.AMOUNT  ...  \\\n",
       "154537                    0                      0                     0  ...   \n",
       "168253                    0                      0                     0  ...   \n",
       "140397                    0                      0                     0  ...   \n",
       "196005              2408134                2741489               2741489  ...   \n",
       "65204                     0                      0                     0  ...   \n",
       "\n",
       "        NEW.ACCTS.IN.LAST.SIX.MONTHS  DELINQUENT.ACCTS.IN.LAST.SIX.MONTHS  \\\n",
       "154537                             0                                    0   \n",
       "168253                             0                                    0   \n",
       "140397                             0                                    0   \n",
       "196005                             0                                    0   \n",
       "65204                              0                                    0   \n",
       "\n",
       "        AVERAGE.ACCT.AGE  CREDIT.HISTORY.LENGTH  NO.OF_INQUIRIES  \\\n",
       "154537                 3                      5                0   \n",
       "168253                 0                      0                0   \n",
       "140397                 0                      0                0   \n",
       "196005                39                     71                0   \n",
       "65204                  0                      0                0   \n",
       "\n",
       "        loan_default  Employment.Type_Salaried  Employment.Type_Self employed  \\\n",
       "154537             0                         0                              1   \n",
       "168253             0                         1                              0   \n",
       "140397             0                         0                              1   \n",
       "196005             0                         0                              1   \n",
       "65204              0                         0                              1   \n",
       "\n",
       "        Age  DisbursalMonth  \n",
       "154537   42               9  \n",
       "168253   25              12  \n",
       "140397   47              10  \n",
       "196005   48              12  \n",
       "65204    51              10  \n",
       "\n",
       "[5 rows x 21 columns]"
      ]
     },
     "execution_count": 49,
     "metadata": {},
     "output_type": "execute_result"
    }
   ],
   "source": [
    "test.head()"
   ]
  },
  {
   "cell_type": "code",
   "execution_count": 50,
   "metadata": {},
   "outputs": [],
   "source": [
    "del test['loan_default']"
   ]
  },
  {
   "cell_type": "code",
   "execution_count": 51,
   "metadata": {},
   "outputs": [
    {
     "data": {
      "text/plain": [
       "(46631, 20)"
      ]
     },
     "execution_count": 51,
     "metadata": {},
     "output_type": "execute_result"
    }
   ],
   "source": [
    "test.shape"
   ]
  },
  {
   "cell_type": "code",
   "execution_count": 52,
   "metadata": {},
   "outputs": [
    {
     "data": {
      "text/plain": [
       "(186523, 21)"
      ]
     },
     "execution_count": 52,
     "metadata": {},
     "output_type": "execute_result"
    }
   ],
   "source": [
    "train.shape"
   ]
  },
  {
   "cell_type": "code",
   "execution_count": 53,
   "metadata": {},
   "outputs": [],
   "source": [
    "# Notice that only train data is used for imputing missing values in both train and test \n",
    "\n",
    "x_train=train.drop('loan_default',axis=1)\n",
    "y_train=train['loan_default']"
   ]
  },
  {
   "cell_type": "code",
   "execution_count": 54,
   "metadata": {},
   "outputs": [],
   "source": [
    "from sklearn.linear_model import LogisticRegression\n",
    "from sklearn.metrics import roc_auc_score\n",
    "from sklearn.model_selection import GridSearchCV"
   ]
  },
  {
   "cell_type": "code",
   "execution_count": 55,
   "metadata": {},
   "outputs": [],
   "source": [
    "params={'class_weight':['balanced',None],\n",
    "        'penalty':['l1','l2'],\n",
    "       'C':[0.01,1000,10]}"
   ]
  },
  {
   "cell_type": "code",
   "execution_count": 56,
   "metadata": {},
   "outputs": [],
   "source": [
    "model=LogisticRegression(fit_intercept=True)"
   ]
  },
  {
   "cell_type": "code",
   "execution_count": 57,
   "metadata": {},
   "outputs": [],
   "source": [
    "grid_search=GridSearchCV(model,param_grid=params,cv=5,scoring=\"roc_auc\")"
   ]
  },
  {
   "cell_type": "code",
   "execution_count": 58,
   "metadata": {},
   "outputs": [
    {
     "data": {
      "text/plain": [
       "GridSearchCV(cv=5, error_score='raise-deprecating',\n",
       "             estimator=LogisticRegression(C=1.0, class_weight=None, dual=False,\n",
       "                                          fit_intercept=True,\n",
       "                                          intercept_scaling=1, l1_ratio=None,\n",
       "                                          max_iter=100, multi_class='warn',\n",
       "                                          n_jobs=None, penalty='l2',\n",
       "                                          random_state=None, solver='warn',\n",
       "                                          tol=0.0001, verbose=0,\n",
       "                                          warm_start=False),\n",
       "             iid='warn', n_jobs=None,\n",
       "             param_grid={'C': [0.01, 1000, 10],\n",
       "                         'class_weight': ['balanced', None],\n",
       "                         'penalty': ['l1', 'l2']},\n",
       "             pre_dispatch='2*n_jobs', refit=True, return_train_score=False,\n",
       "             scoring='roc_auc', verbose=0)"
      ]
     },
     "execution_count": 58,
     "metadata": {},
     "output_type": "execute_result"
    }
   ],
   "source": [
    "grid_search.fit(x_train,y_train)"
   ]
  },
  {
   "cell_type": "code",
   "execution_count": 59,
   "metadata": {},
   "outputs": [],
   "source": [
    "logr=grid_search.best_estimator_"
   ]
  },
  {
   "cell_type": "code",
   "execution_count": 60,
   "metadata": {},
   "outputs": [
    {
     "data": {
      "text/plain": [
       "LogisticRegression(C=10, class_weight='balanced', dual=False,\n",
       "                   fit_intercept=True, intercept_scaling=1, l1_ratio=None,\n",
       "                   max_iter=100, multi_class='warn', n_jobs=None, penalty='l1',\n",
       "                   random_state=None, solver='warn', tol=0.0001, verbose=0,\n",
       "                   warm_start=False)"
      ]
     },
     "execution_count": 60,
     "metadata": {},
     "output_type": "execute_result"
    }
   ],
   "source": [
    "grid_search.best_estimator_"
   ]
  },
  {
   "cell_type": "code",
   "execution_count": 61,
   "metadata": {},
   "outputs": [],
   "source": [
    "def report(results, n_top=3):\n",
    "    for i in range(1, n_top + 1):\n",
    "        candidates = np.flatnonzero(results['rank_test_score'] == i)\n",
    "        for candidate in candidates:\n",
    "            print(\"Model with rank: {0}\".format(i))\n",
    "            print(\"Mean validation score: {0:.8f} (std: {1:.5f})\".format(\n",
    "                  results['mean_test_score'][candidate],\n",
    "                  results['std_test_score'][candidate]))\n",
    "            print(\"Parameters: {0}\".format(results['params'][candidate]))\n",
    "            print(\"\")"
   ]
  },
  {
   "cell_type": "code",
   "execution_count": 62,
   "metadata": {},
   "outputs": [
    {
     "name": "stdout",
     "output_type": "stream",
     "text": [
      "Model with rank: 1\n",
      "Mean validation score: 0.61933869 (std: 0.00378)\n",
      "Parameters: {'C': 10, 'class_weight': 'balanced', 'penalty': 'l1'}\n",
      "\n",
      "Model with rank: 2\n",
      "Mean validation score: 0.61933412 (std: 0.00379)\n",
      "Parameters: {'C': 1000, 'class_weight': 'balanced', 'penalty': 'l1'}\n",
      "\n",
      "Model with rank: 3\n",
      "Mean validation score: 0.61919807 (std: 0.00372)\n",
      "Parameters: {'C': 10, 'class_weight': None, 'penalty': 'l1'}\n",
      "\n",
      "Model with rank: 4\n",
      "Mean validation score: 0.61919224 (std: 0.00374)\n",
      "Parameters: {'C': 1000, 'class_weight': None, 'penalty': 'l1'}\n",
      "\n",
      "Model with rank: 5\n",
      "Mean validation score: 0.61788946 (std: 0.00352)\n",
      "Parameters: {'C': 0.01, 'class_weight': 'balanced', 'penalty': 'l1'}\n",
      "\n"
     ]
    }
   ],
   "source": [
    "report(grid_search.cv_results_,5)"
   ]
  },
  {
   "cell_type": "code",
   "execution_count": 63,
   "metadata": {},
   "outputs": [
    {
     "data": {
      "text/plain": [
       "LogisticRegression(C=10, class_weight='balanced', dual=False,\n",
       "                   fit_intercept=True, intercept_scaling=1, l1_ratio=None,\n",
       "                   max_iter=100, multi_class='warn', n_jobs=None, penalty='l1',\n",
       "                   random_state=None, solver='warn', tol=0.0001, verbose=0,\n",
       "                   warm_start=False)"
      ]
     },
     "execution_count": 63,
     "metadata": {},
     "output_type": "execute_result"
    }
   ],
   "source": [
    "logr.fit(x_train,y_train)"
   ]
  },
  {
   "cell_type": "code",
   "execution_count": 64,
   "metadata": {},
   "outputs": [
    {
     "data": {
      "text/plain": [
       "array([0.01, 0.02, 0.03, 0.04, 0.05, 0.06, 0.07, 0.08, 0.09, 0.1 , 0.11,\n",
       "       0.12, 0.13, 0.14, 0.15, 0.16, 0.17, 0.18, 0.19, 0.2 , 0.21, 0.22,\n",
       "       0.23, 0.24, 0.25, 0.26, 0.27, 0.28, 0.29, 0.3 , 0.31, 0.32, 0.33,\n",
       "       0.34, 0.35, 0.36, 0.37, 0.38, 0.39, 0.4 , 0.41, 0.42, 0.43, 0.44,\n",
       "       0.45, 0.46, 0.47, 0.48, 0.49, 0.5 , 0.51, 0.52, 0.53, 0.54, 0.55,\n",
       "       0.56, 0.57, 0.58, 0.59, 0.6 , 0.61, 0.62, 0.63, 0.64, 0.65, 0.66,\n",
       "       0.67, 0.68, 0.69, 0.7 , 0.71, 0.72, 0.73, 0.74, 0.75, 0.76, 0.77,\n",
       "       0.78, 0.79, 0.8 , 0.81, 0.82, 0.83, 0.84, 0.85, 0.86, 0.87, 0.88,\n",
       "       0.89, 0.9 , 0.91, 0.92, 0.93, 0.94, 0.95, 0.96, 0.97, 0.98, 0.99])"
      ]
     },
     "execution_count": 64,
     "metadata": {},
     "output_type": "execute_result"
    }
   ],
   "source": [
    "cutoffs=np.linspace(0.01,0.99,99)\n",
    "\n",
    "cutoffs"
   ]
  },
  {
   "cell_type": "code",
   "execution_count": 65,
   "metadata": {},
   "outputs": [],
   "source": [
    "train_score=logr.predict_proba(x_train)[:,1]\n",
    "\n",
    "real=y_train"
   ]
  },
  {
   "cell_type": "code",
   "execution_count": 66,
   "metadata": {},
   "outputs": [],
   "source": [
    "from sklearn.metrics import fbeta_score"
   ]
  },
  {
   "cell_type": "code",
   "execution_count": 67,
   "metadata": {},
   "outputs": [],
   "source": [
    "f_all=[]\n",
    "KS_all=[]\n",
    "Accuracy=[]\n",
    "\n",
    "for cutoff in cutoffs:\n",
    "    \n",
    "    predicted=(train_score>cutoff).astype(int)\n",
    "\n",
    "    TP=((predicted==1) & (real==1)).sum()\n",
    "    TN=((predicted==0) & (real==0)).sum()\n",
    "    FP=((predicted==1) & (real==0)).sum()\n",
    "    FN=((predicted==0) & (real==1)).sum()\n",
    "    \n",
    "    P=TP+FN\n",
    "    N=TN+FP\n",
    "      \n",
    "    KS=(TP/P)-(FP/N)\n",
    "    \n",
    "    KS_all.append(KS)\n",
    "    f=fbeta_score(predicted, real, beta=1)\n",
    "    f_all.append(f)\n",
    "   "
   ]
  },
  {
   "cell_type": "code",
   "execution_count": 68,
   "metadata": {},
   "outputs": [
    {
     "data": {
      "text/plain": [
       "0.49"
      ]
     },
     "execution_count": 68,
     "metadata": {},
     "output_type": "execute_result"
    }
   ],
   "source": [
    "mycutoff=cutoffs[KS_all==max(KS_all)][0]\n",
    "mycutoff"
   ]
  },
  {
   "cell_type": "code",
   "execution_count": 69,
   "metadata": {},
   "outputs": [
    {
     "data": {
      "text/plain": [
       "[0.3567051276967879,\n",
       " 0.3567120318275742,\n",
       " 0.35672208000493477,\n",
       " 0.35672646036299227,\n",
       " 0.3567421795476277,\n",
       " 0.3567607111064104,\n",
       " 0.3567959239441834,\n",
       " 0.3568113195071959,\n",
       " 0.3568408755262636,\n",
       " 0.3569138780243669,\n",
       " 0.3569358872016971,\n",
       " 0.3570227953535773,\n",
       " 0.35708832550031994,\n",
       " 0.35717691519796557,\n",
       " 0.3573337810314434,\n",
       " 0.3574725449625975,\n",
       " 0.3576906227459588,\n",
       " 0.3579199149539334,\n",
       " 0.35813375909171546,\n",
       " 0.35839351864189967,\n",
       " 0.3586861729581576,\n",
       " 0.35904844714957757,\n",
       " 0.3594210930935226,\n",
       " 0.3599634254569577,\n",
       " 0.360428730712513,\n",
       " 0.36107864154349545,\n",
       " 0.3618742832276401,\n",
       " 0.36257789439160387,\n",
       " 0.36357639859098795,\n",
       " 0.3645618645826129,\n",
       " 0.3656109689791105,\n",
       " 0.3669848399775407,\n",
       " 0.3683224390589235,\n",
       " 0.36972106236534535,\n",
       " 0.3712286248578204,\n",
       " 0.37250030506406345,\n",
       " 0.3739423866683819,\n",
       " 0.37580715674795606,\n",
       " 0.37751644409009366,\n",
       " 0.37935077726417604,\n",
       " 0.3815428829931611,\n",
       " 0.3833005283331607,\n",
       " 0.3846747840100273,\n",
       " 0.38684701707491304,\n",
       " 0.3886909400224848,\n",
       " 0.3898365666674883,\n",
       " 0.3907521269979676,\n",
       " 0.39033601628520537,\n",
       " 0.3896231651875742,\n",
       " 0.38685790872807246,\n",
       " 0.38296970315529977,\n",
       " 0.37630031659882407,\n",
       " 0.3681600977257213,\n",
       " 0.35756975977024874,\n",
       " 0.34484863795208626,\n",
       " 0.32751813423928017,\n",
       " 0.30734008428203036,\n",
       " 0.28202653134394223,\n",
       " 0.2529511978169428,\n",
       " 0.22479132844656535,\n",
       " 0.1944267628545159,\n",
       " 0.16613153023835606,\n",
       " 0.13810302861019114,\n",
       " 0.11538942889324602,\n",
       " 0.09497303128371089,\n",
       " 0.0807607253427687,\n",
       " 0.06827617328519855,\n",
       " 0.057823596792668956,\n",
       " 0.0483549120608845,\n",
       " 0.040815369097605025,\n",
       " 0.0342967973887128,\n",
       " 0.029294781718150854,\n",
       " 0.024677160449459737,\n",
       " 0.020653796158105052,\n",
       " 0.0175035659889273,\n",
       " 0.014558159848595138,\n",
       " 0.01192475237886642,\n",
       " 0.010290173128505243,\n",
       " 0.008795074758135445,\n",
       " 0.007243185043801694,\n",
       " 0.006468685680682153,\n",
       " 0.0054459817486017074,\n",
       " 0.004664866191996072,\n",
       " 0.003981028678151033,\n",
       " 0.003491860522303644,\n",
       " 0.0028543307086614173,\n",
       " 0.0025604411837116545,\n",
       " 0.0021673275373740855,\n",
       " 0.0020203513440264125,\n",
       " 0.00152818515688546,\n",
       " 0.0010848928668294009,\n",
       " 0.0008386157906420345,\n",
       " 0.0006907951545654159,\n",
       " 0.0005922124068499234,\n",
       " 0.0004442579657921367,\n",
       " 0.00034557661927330175,\n",
       " 0.0002468770058756727,\n",
       " 0.00019753086419753083,\n",
       " 9.8782505618255e-05]"
      ]
     },
     "execution_count": 69,
     "metadata": {},
     "output_type": "execute_result"
    }
   ],
   "source": [
    "f_all"
   ]
  },
  {
   "cell_type": "code",
   "execution_count": 70,
   "metadata": {},
   "outputs": [
    {
     "data": {
      "text/plain": [
       "0.47000000000000003"
      ]
     },
     "execution_count": 70,
     "metadata": {},
     "output_type": "execute_result"
    }
   ],
   "source": [
    "maxF=cutoffs[f_all==max(f_all)][0]\n",
    "maxF"
   ]
  },
  {
   "cell_type": "code",
   "execution_count": 71,
   "metadata": {},
   "outputs": [
    {
     "data": {
      "text/plain": [
       "0.3907521269979676"
      ]
     },
     "execution_count": 71,
     "metadata": {},
     "output_type": "execute_result"
    }
   ],
   "source": [
    "max(f_all)"
   ]
  },
  {
   "cell_type": "code",
   "execution_count": 108,
   "metadata": {},
   "outputs": [
    {
     "data": {
      "text/plain": [
       "array([-2.73658299])"
      ]
     },
     "execution_count": 108,
     "metadata": {},
     "output_type": "execute_result"
    }
   ],
   "source": [
    "logr.intercept_"
   ]
  },
  {
   "cell_type": "code",
   "execution_count": 68,
   "metadata": {},
   "outputs": [
    {
     "data": {
      "text/plain": [
       "[0.00013279106025687604,\n",
       " 0.00016971731727621897,\n",
       " 0.00022033854618652704,\n",
       " 0.00025310614455209546,\n",
       " 0.00032158100400747625,\n",
       " 0.00041597597588283186,\n",
       " 0.0005761569799216382,\n",
       " 0.0006568569799059176,\n",
       " 0.0007923368674545017,\n",
       " 0.0011237050201319265,\n",
       " 0.0012535564176643366,\n",
       " 0.0016519295984348537,\n",
       " 0.0019571268032595457,\n",
       " 0.002403181550216127,\n",
       " 0.0031585921606512857,\n",
       " 0.0038660703694677334,\n",
       " 0.0048665206425798635,\n",
       " 0.005969683204875231,\n",
       " 0.007028319517907389,\n",
       " 0.008378458063873384,\n",
       " 0.009852819517355726,\n",
       " 0.011695224545101968,\n",
       " 0.01365916365307318,\n",
       " 0.01639296084966857,\n",
       " 0.018784599403185887,\n",
       " 0.021986428454702778,\n",
       " 0.025922157498321274,\n",
       " 0.029581012260160078,\n",
       " 0.034394654154935256,\n",
       " 0.03931853796866913,\n",
       " 0.04456106312368624,\n",
       " 0.05097891786947628,\n",
       " 0.05742778436560292,\n",
       " 0.06419475535091335,\n",
       " 0.07142853919521552,\n",
       " 0.07819536945559002,\n",
       " 0.08544052039042105,\n",
       " 0.09423072997585025,\n",
       " 0.10258212842743164,\n",
       " 0.11146924590585783,\n",
       " 0.12138126393845394,\n",
       " 0.13023321557468437,\n",
       " 0.1378674281648371,\n",
       " 0.14786058207260966,\n",
       " 0.15682916119090773,\n",
       " 0.16383918342261283,\n",
       " 0.17053970906590343,\n",
       " 0.1741791974041359,\n",
       " 0.1774316796521267,\n",
       " 0.17669943131747623,\n",
       " 0.17450189591974397,\n",
       " 0.16848249977070118,\n",
       " 0.1614880014276328,\n",
       " 0.15269322606225083,\n",
       " 0.1433479981751683,\n",
       " 0.13083865974791525,\n",
       " 0.11823058721716828,\n",
       " 0.10336513702452302,\n",
       " 0.08789240799112259,\n",
       " 0.07578508603204413,\n",
       " 0.06349875671109016,\n",
       " 0.05335697528269135,\n",
       " 0.04311269265251342,\n",
       " 0.03611124449346793,\n",
       " 0.02927112140512815,\n",
       " 0.02523014567035524,\n",
       " 0.02150447548697761,\n",
       " 0.018184598003649403,\n",
       " 0.014994857934520349,\n",
       " 0.01278828654129195,\n",
       " 0.010588346979810374,\n",
       " 0.009110619122001035,\n",
       " 0.007653935392893694,\n",
       " 0.006258161712232067,\n",
       " 0.005401653935706819,\n",
       " 0.004459068504613984,\n",
       " 0.003548282511389845,\n",
       " 0.0030549775066446372,\n",
       " 0.0026110747348803607,\n",
       " 0.0020781546458241273,\n",
       " 0.0019184401314165497,\n",
       " 0.0015845988056462246,\n",
       " 0.0013126356888184104,\n",
       " 0.0011243122346992025,\n",
       " 0.0009868608449231104,\n",
       " 0.000768458619730087,\n",
       " 0.0007229642099703212,\n",
       " 0.0005732876796653441,\n",
       " 0.0005882016474859042,\n",
       " 0.00038227539825446105,\n",
       " 0.0001942027795679482,\n",
       " 0.00013232457062543722,\n",
       " 0.00010615362277278682,\n",
       " 9.098881951953152e-05,\n",
       " 5.797038572134599e-05,\n",
       " 2.9110610577020554e-05,\n",
       " 7.0983213782301995e-06,\n",
       " 1.6634634615440307e-05,\n",
       " 1.4698313621850563e-06]"
      ]
     },
     "execution_count": 68,
     "metadata": {},
     "output_type": "execute_result"
    }
   ],
   "source": [
    "KS_all"
   ]
  },
  {
   "cell_type": "code",
   "execution_count": 72,
   "metadata": {},
   "outputs": [],
   "source": [
    "gbm_params={'n_estimators':[100,200,500,700],\n",
    "           'learning_rate': [0.01,.05,0.1,0.4,0.8,1],\n",
    "            'max_depth':[1,2,3,4,5,6],\n",
    "            'subsample':[0.5,0.8,1],\n",
    "            'max_features':[5,10,15]\n",
    "           }\n"
   ]
  },
  {
   "cell_type": "code",
   "execution_count": 73,
   "metadata": {},
   "outputs": [],
   "source": [
    "gbm=GradientBoostingClassifier()"
   ]
  },
  {
   "cell_type": "code",
   "execution_count": 74,
   "metadata": {},
   "outputs": [],
   "source": [
    "random_search=RandomizedSearchCV(gbm,scoring='roc_auc',param_distributions=gbm_params,\n",
    "                                 cv=5,n_iter=10,\n",
    "                                 n_jobs=-1)"
   ]
  },
  {
   "cell_type": "code",
   "execution_count": 75,
   "metadata": {},
   "outputs": [
    {
     "data": {
      "text/plain": [
       "RandomizedSearchCV(cv=5, error_score='raise-deprecating',\n",
       "                   estimator=GradientBoostingClassifier(criterion='friedman_mse',\n",
       "                                                        init=None,\n",
       "                                                        learning_rate=0.1,\n",
       "                                                        loss='deviance',\n",
       "                                                        max_depth=3,\n",
       "                                                        max_features=None,\n",
       "                                                        max_leaf_nodes=None,\n",
       "                                                        min_impurity_decrease=0.0,\n",
       "                                                        min_impurity_split=None,\n",
       "                                                        min_samples_leaf=1,\n",
       "                                                        min_samples_split=2,\n",
       "                                                        min_weight_fraction_leaf=0.0,\n",
       "                                                        n_estimators=100,\n",
       "                                                        n_i...\n",
       "                                                        validation_fraction=0.1,\n",
       "                                                        verbose=0,\n",
       "                                                        warm_start=False),\n",
       "                   iid='warn', n_iter=10, n_jobs=-1,\n",
       "                   param_distributions={'learning_rate': [0.01, 0.05, 0.1, 0.4,\n",
       "                                                          0.8, 1],\n",
       "                                        'max_depth': [1, 2, 3, 4, 5, 6],\n",
       "                                        'max_features': [5, 10, 15],\n",
       "                                        'n_estimators': [100, 200, 500, 700],\n",
       "                                        'subsample': [0.5, 0.8, 1]},\n",
       "                   pre_dispatch='2*n_jobs', random_state=None, refit=True,\n",
       "                   return_train_score=False, scoring='roc_auc', verbose=0)"
      ]
     },
     "execution_count": 75,
     "metadata": {},
     "output_type": "execute_result"
    }
   ],
   "source": [
    "random_search.fit(x_train,y_train)\n",
    "# this might take upto 30-45 miins to finish , if you try cv=10 and larger number for n_iter\n",
    "# ( dont be impatient :) . Also dont be alarmed if it finishes early :))"
   ]
  },
  {
   "cell_type": "code",
   "execution_count": 76,
   "metadata": {},
   "outputs": [],
   "source": [
    "def report(results, n_top=3):\n",
    "    for i in range(1, n_top + 1):\n",
    "        candidates = np.flatnonzero(results['rank_test_score'] == i)\n",
    "        for candidate in candidates:\n",
    "            print(\"Model with rank: {0}\".format(i))\n",
    "            print(\"Mean validation score: {0:.3f} (std: {1:.5f})\".format(\n",
    "                  results['mean_test_score'][candidate],\n",
    "                  results['std_test_score'][candidate]))\n",
    "            print(\"Parameters: {0}\".format(results['params'][candidate]))\n",
    "            print(\"\")"
   ]
  },
  {
   "cell_type": "code",
   "execution_count": 77,
   "metadata": {},
   "outputs": [
    {
     "name": "stdout",
     "output_type": "stream",
     "text": [
      "Model with rank: 1\n",
      "Mean validation score: 0.639 (std: 0.00330)\n",
      "Parameters: {'subsample': 0.8, 'n_estimators': 100, 'max_features': 15, 'max_depth': 5, 'learning_rate': 0.05}\n",
      "\n",
      "Model with rank: 2\n",
      "Mean validation score: 0.638 (std: 0.00340)\n",
      "Parameters: {'subsample': 1, 'n_estimators': 700, 'max_features': 10, 'max_depth': 2, 'learning_rate': 0.05}\n",
      "\n",
      "Model with rank: 3\n",
      "Mean validation score: 0.632 (std: 0.00407)\n",
      "Parameters: {'subsample': 0.8, 'n_estimators': 200, 'max_features': 15, 'max_depth': 5, 'learning_rate': 0.01}\n",
      "\n",
      "Model with rank: 4\n",
      "Mean validation score: 0.632 (std: 0.00369)\n",
      "Parameters: {'subsample': 1, 'n_estimators': 200, 'max_features': 5, 'max_depth': 2, 'learning_rate': 0.05}\n",
      "\n",
      "Model with rank: 5\n",
      "Mean validation score: 0.631 (std: 0.00453)\n",
      "Parameters: {'subsample': 1, 'n_estimators': 100, 'max_features': 10, 'max_depth': 1, 'learning_rate': 1}\n",
      "\n"
     ]
    }
   ],
   "source": [
    "report(random_search.cv_results_,5)"
   ]
  },
  {
   "cell_type": "markdown",
   "metadata": {},
   "source": [
    "top 5 classfiers from the previous run were as follows : \n",
    "\n",
    "Model with rank: 1\n",
    "Mean validation score: 0.639 (std: 0.00330)\n",
    "Parameters: {'subsample': 0.8, 'n_estimators': 100, 'max_features': 15, 'max_depth': 5, 'learning_rate': 0.05}\n",
    "\n",
    "Model with rank: 2\n",
    "Mean validation score: 0.638 (std: 0.00340)\n",
    "Parameters: {'subsample': 1, 'n_estimators': 700, 'max_features': 10, 'max_depth': 2, 'learning_rate': 0.05}\n",
    "\n",
    "Model with rank: 3\n",
    "Mean validation score: 0.632 (std: 0.00407)\n",
    "Parameters: {'subsample': 0.8, 'n_estimators': 200, 'max_features': 15, 'max_depth': 5, 'learning_rate': 0.01}\n",
    "\n",
    "Model with rank: 4\n",
    "Mean validation score: 0.632 (std: 0.00369)\n",
    "Parameters: {'subsample': 1, 'n_estimators': 200, 'max_features': 5, 'max_depth': 2, 'learning_rate': 0.05}\n",
    "\n",
    "Model with rank: 5\n",
    "Mean validation score: 0.631 (std: 0.00453)\n",
    "Parameters: {'subsample': 1, 'n_estimators': 100, 'max_features': 10, 'max_depth': 1, 'learning_rate': 1}"
   ]
  },
  {
   "cell_type": "markdown",
   "metadata": {},
   "source": [
    "# Xgboost"
   ]
  },
  {
   "cell_type": "code",
   "execution_count": 78,
   "metadata": {},
   "outputs": [],
   "source": [
    "xgb_params = {  \n",
    "                \"learning_rate\":[0.01,0.05,0.1,0.3,0.5],\n",
    "                \"gamma\":[i/10.0 for i in range(0,5)],\n",
    "                \"max_depth\": [2,3,4,5,6,7,8],\n",
    "                \"min_child_weight\":[1,2,5,10],\n",
    "                \"max_delta_step\":[0,1,2,5,10],\n",
    "                \"subsample\":[i/10.0 for i in range(5,10)],\n",
    "                \"colsample_bytree\":[i/10.0 for i in range(5,10)],\n",
    "                \"colsample_bylevel\":[i/10.0 for i in range(5,10)],\n",
    "                \"reg_lambda\":[1e-5, 1e-2, 0.1, 1, 100], \n",
    "                \"reg_alpha\":[1e-5, 1e-2, 0.1, 1, 100],\n",
    "                \"scale_pos_weight\":[1,2,3,4,5,6,7,8,9],\n",
    "                \"n_estimators\":[100,500,700,1000]\n",
    "             }\n"
   ]
  },
  {
   "cell_type": "code",
   "execution_count": 79,
   "metadata": {},
   "outputs": [],
   "source": [
    "import xgboost as xgbp"
   ]
  },
  {
   "cell_type": "code",
   "execution_count": 80,
   "metadata": {},
   "outputs": [],
   "source": [
    "xgb=xgbp.XGBClassifier(objective='binary:logistic')"
   ]
  },
  {
   "cell_type": "code",
   "execution_count": 81,
   "metadata": {},
   "outputs": [],
   "source": [
    "n_iter=10\n",
    "\n",
    "random_search=RandomizedSearchCV(xgb,n_jobs=-1,cv=5,n_iter=n_iter,scoring='roc_auc',\n",
    "                                 param_distributions=xgb_params)"
   ]
  },
  {
   "cell_type": "code",
   "execution_count": 82,
   "metadata": {},
   "outputs": [
    {
     "data": {
      "text/plain": [
       "RandomizedSearchCV(cv=5, error_score='raise-deprecating',\n",
       "                   estimator=XGBClassifier(base_score=None, booster=None,\n",
       "                                           colsample_bylevel=None,\n",
       "                                           colsample_bynode=None,\n",
       "                                           colsample_bytree=None, gamma=None,\n",
       "                                           gpu_id=None, importance_type='gain',\n",
       "                                           interaction_constraints=None,\n",
       "                                           learning_rate=None,\n",
       "                                           max_delta_step=None, max_depth=None,\n",
       "                                           min_child_weight=None, missing=nan,\n",
       "                                           monotone_co...\n",
       "                                        'max_delta_step': [0, 1, 2, 5, 10],\n",
       "                                        'max_depth': [2, 3, 4, 5, 6, 7, 8],\n",
       "                                        'min_child_weight': [1, 2, 5, 10],\n",
       "                                        'n_estimators': [100, 500, 700, 1000],\n",
       "                                        'reg_alpha': [1e-05, 0.01, 0.1, 1, 100],\n",
       "                                        'reg_lambda': [1e-05, 0.01, 0.1, 1,\n",
       "                                                       100],\n",
       "                                        'scale_pos_weight': [1, 2, 3, 4, 5, 6,\n",
       "                                                             7, 8, 9],\n",
       "                                        'subsample': [0.5, 0.6, 0.7, 0.8, 0.9]},\n",
       "                   pre_dispatch='2*n_jobs', random_state=None, refit=True,\n",
       "                   return_train_score=False, scoring='roc_auc', verbose=0)"
      ]
     },
     "execution_count": 82,
     "metadata": {},
     "output_type": "execute_result"
    }
   ],
   "source": [
    "random_search.fit(x_train,y_train)"
   ]
  },
  {
   "cell_type": "code",
   "execution_count": 83,
   "metadata": {},
   "outputs": [
    {
     "name": "stdout",
     "output_type": "stream",
     "text": [
      "Model with rank: 1\n",
      "Mean validation score: 0.641 (std: 0.00330)\n",
      "Parameters: {'subsample': 0.6, 'scale_pos_weight': 7, 'reg_lambda': 100, 'reg_alpha': 1, 'n_estimators': 500, 'min_child_weight': 2, 'max_depth': 3, 'max_delta_step': 10, 'learning_rate': 0.05, 'gamma': 0.4, 'colsample_bytree': 0.6, 'colsample_bylevel': 0.9}\n",
      "\n",
      "Model with rank: 2\n",
      "Mean validation score: 0.640 (std: 0.00339)\n",
      "Parameters: {'subsample': 0.6, 'scale_pos_weight': 6, 'reg_lambda': 0.01, 'reg_alpha': 0.01, 'n_estimators': 500, 'min_child_weight': 10, 'max_depth': 3, 'max_delta_step': 10, 'learning_rate': 0.05, 'gamma': 0.2, 'colsample_bytree': 0.7, 'colsample_bylevel': 0.8}\n",
      "\n",
      "Model with rank: 3\n",
      "Mean validation score: 0.637 (std: 0.00349)\n",
      "Parameters: {'subsample': 0.9, 'scale_pos_weight': 4, 'reg_lambda': 1e-05, 'reg_alpha': 0.01, 'n_estimators': 1000, 'min_child_weight': 10, 'max_depth': 3, 'max_delta_step': 2, 'learning_rate': 0.01, 'gamma': 0.4, 'colsample_bytree': 0.6, 'colsample_bylevel': 0.6}\n",
      "\n",
      "Model with rank: 4\n",
      "Mean validation score: 0.637 (std: 0.00264)\n",
      "Parameters: {'subsample': 0.7, 'scale_pos_weight': 1, 'reg_lambda': 100, 'reg_alpha': 1, 'n_estimators': 100, 'min_child_weight': 2, 'max_depth': 4, 'max_delta_step': 1, 'learning_rate': 0.5, 'gamma': 0.3, 'colsample_bytree': 0.5, 'colsample_bylevel': 0.9}\n",
      "\n",
      "Model with rank: 5\n",
      "Mean validation score: 0.637 (std: 0.00269)\n",
      "Parameters: {'subsample': 0.6, 'scale_pos_weight': 1, 'reg_lambda': 100, 'reg_alpha': 100, 'n_estimators': 500, 'min_child_weight': 10, 'max_depth': 2, 'max_delta_step': 1, 'learning_rate': 0.5, 'gamma': 0.2, 'colsample_bytree': 0.7, 'colsample_bylevel': 0.5}\n",
      "\n"
     ]
    }
   ],
   "source": [
    "report(random_search.cv_results_,5)"
   ]
  },
  {
   "cell_type": "markdown",
   "metadata": {},
   "source": [
    "top 5 classfiers from the previous run \n",
    "\n",
    "Model with rank: 1\n",
    "Mean validation score: 0.641 (std: 0.00330)\n",
    "Parameters: {'subsample': 0.6, 'scale_pos_weight': 7, 'reg_lambda': 100, 'reg_alpha': 1, 'n_estimators': 500, 'min_child_weight': 2, 'max_depth': 3, 'max_delta_step': 10, 'learning_rate': 0.05, 'gamma': 0.4, 'colsample_bytree': 0.6, 'colsample_bylevel': 0.9}\n",
    "\n",
    "Model with rank: 2\n",
    "Mean validation score: 0.640 (std: 0.00339)\n",
    "Parameters: {'subsample': 0.6, 'scale_pos_weight': 6, 'reg_lambda': 0.01, 'reg_alpha': 0.01, 'n_estimators': 500, 'min_child_weight': 10, 'max_depth': 3, 'max_delta_step': 10, 'learning_rate': 0.05, 'gamma': 0.2, 'colsample_bytree': 0.7, 'colsample_bylevel': 0.8}\n",
    "\n",
    "Model with rank: 3\n",
    "Mean validation score: 0.637 (std: 0.00349)\n",
    "Parameters: {'subsample': 0.9, 'scale_pos_weight': 4, 'reg_lambda': 1e-05, 'reg_alpha': 0.01, 'n_estimators': 1000, 'min_child_weight': 10, 'max_depth': 3, 'max_delta_step': 2, 'learning_rate': 0.01, 'gamma': 0.4, 'colsample_bytree': 0.6, 'colsample_bylevel': 0.6}\n",
    "\n",
    "Model with rank: 4\n",
    "Mean validation score: 0.637 (std: 0.00264)\n",
    "Parameters: {'subsample': 0.7, 'scale_pos_weight': 1, 'reg_lambda': 100, 'reg_alpha': 1, 'n_estimators': 100, 'min_child_weight': 2, 'max_depth': 4, 'max_delta_step': 1, 'learning_rate': 0.5, 'gamma': 0.3, 'colsample_bytree': 0.5, 'colsample_bylevel': 0.9}\n",
    "\n",
    "Model with rank: 5\n",
    "Mean validation score: 0.637 (std: 0.00269)\n",
    "Parameters: {'subsample': 0.6, 'scale_pos_weight': 1, 'reg_lambda': 100, 'reg_alpha': 100, 'n_estimators': 500, 'min_child_weight': 10, 'max_depth': 2, 'max_delta_step': 1, 'learning_rate': 0.5, 'gamma': 0.2, 'colsample_bytree': 0.7, 'colsample_bylevel': 0.5}\n"
   ]
  },
  {
   "cell_type": "code",
   "execution_count": 84,
   "metadata": {},
   "outputs": [
    {
     "data": {
      "text/plain": [
       "XGBClassifier(base_score=0.5, booster='gbtree', colsample_bylevel=0.9,\n",
       "              colsample_bynode=1, colsample_bytree=0.6, gamma=0.4, gpu_id=-1,\n",
       "              importance_type='gain', interaction_constraints='',\n",
       "              learning_rate=0.05, max_delta_step=10, max_depth=3,\n",
       "              min_child_weight=2, missing=nan, monotone_constraints='()',\n",
       "              n_estimators=500, n_jobs=0, num_parallel_tree=1,\n",
       "              objective='binary:logistic', random_state=0, reg_alpha=1,\n",
       "              reg_lambda=100, scale_pos_weight=7, subsample=0.6,\n",
       "              tree_method='exact', validate_parameters=1, verbosity=None)"
      ]
     },
     "execution_count": 84,
     "metadata": {},
     "output_type": "execute_result"
    }
   ],
   "source": [
    "random_search.best_estimator_"
   ]
  },
  {
   "cell_type": "markdown",
   "metadata": {},
   "source": [
    "## Sequential Parameter tuning for xgboost"
   ]
  },
  {
   "cell_type": "markdown",
   "metadata": {},
   "source": [
    "If we tune all the paramters together , there are chances that our results will be much far from the best. There are many parameters where variation doesnt impact the performance too much and we can tune them later once we have fixed values of parameters with volatile performance.\n",
    "\n",
    "As a general strategy we can start with tuning numer of trees or n_estimators , in case of boosting machines , learning_rate is directly related with n_estimators . A very low learning_rate will need high number of n_estimators . We can start with a decent fixed learning rate and tune n_estimaors for it. "
   ]
  },
  {
   "cell_type": "code",
   "execution_count": 85,
   "metadata": {},
   "outputs": [],
   "source": [
    "xgb_params = {  \n",
    "                \"n_estimators\":[100,500,700]\n",
    "             }"
   ]
  },
  {
   "cell_type": "code",
   "execution_count": 86,
   "metadata": {},
   "outputs": [],
   "source": [
    "xgb1=xgbp.XGBClassifier(learning_rate=0.05,subsample=0.6,colsample_bylevel=0.9,colsample_bytree=0.6)"
   ]
  },
  {
   "cell_type": "code",
   "execution_count": 87,
   "metadata": {},
   "outputs": [],
   "source": [
    "from sklearn.model_selection import GridSearchCV"
   ]
  },
  {
   "cell_type": "code",
   "execution_count": 88,
   "metadata": {},
   "outputs": [],
   "source": [
    "grid_search=GridSearchCV(xgb1,cv=5,param_grid=xgb_params,scoring='roc_auc',verbose=2,n_jobs=-1)"
   ]
  },
  {
   "cell_type": "code",
   "execution_count": 89,
   "metadata": {},
   "outputs": [
    {
     "name": "stdout",
     "output_type": "stream",
     "text": [
      "Fitting 5 folds for each of 3 candidates, totalling 15 fits\n"
     ]
    },
    {
     "name": "stderr",
     "output_type": "stream",
     "text": [
      "[Parallel(n_jobs=-1)]: Using backend LokyBackend with 4 concurrent workers.\n",
      "[Parallel(n_jobs=-1)]: Done  15 out of  15 | elapsed: 22.3min finished\n"
     ]
    },
    {
     "data": {
      "text/plain": [
       "GridSearchCV(cv=5, error_score='raise-deprecating',\n",
       "             estimator=XGBClassifier(base_score=None, booster=None,\n",
       "                                     colsample_bylevel=0.9,\n",
       "                                     colsample_bynode=None,\n",
       "                                     colsample_bytree=0.6, gamma=None,\n",
       "                                     gpu_id=None, importance_type='gain',\n",
       "                                     interaction_constraints=None,\n",
       "                                     learning_rate=0.05, max_delta_step=None,\n",
       "                                     max_depth=None, min_child_weight=None,\n",
       "                                     missing=nan, monotone_constraint...\n",
       "                                     n_estimators=100, n_jobs=None,\n",
       "                                     num_parallel_tree=None,\n",
       "                                     objective='binary:logistic',\n",
       "                                     random_state=None, reg_alpha=None,\n",
       "                                     reg_lambda=None, scale_pos_weight=None,\n",
       "                                     subsample=0.6, tree_method=None,\n",
       "                                     validate_parameters=None, verbosity=None),\n",
       "             iid='warn', n_jobs=-1,\n",
       "             param_grid={'n_estimators': [100, 500, 700]},\n",
       "             pre_dispatch='2*n_jobs', refit=True, return_train_score=False,\n",
       "             scoring='roc_auc', verbose=2)"
      ]
     },
     "execution_count": 89,
     "metadata": {},
     "output_type": "execute_result"
    }
   ],
   "source": [
    "grid_search.fit(x_train,y_train)"
   ]
  },
  {
   "cell_type": "code",
   "execution_count": 90,
   "metadata": {},
   "outputs": [
    {
     "name": "stdout",
     "output_type": "stream",
     "text": [
      "Model with rank: 1\n",
      "Mean validation score: 0.641 (std: 0.00306)\n",
      "Parameters: {'n_estimators': 500}\n",
      "\n",
      "Model with rank: 2\n",
      "Mean validation score: 0.640 (std: 0.00343)\n",
      "Parameters: {'n_estimators': 100}\n",
      "\n",
      "Model with rank: 3\n",
      "Mean validation score: 0.640 (std: 0.00296)\n",
      "Parameters: {'n_estimators': 700}\n",
      "\n"
     ]
    }
   ],
   "source": [
    "report(grid_search.cv_results_,3)"
   ]
  },
  {
   "cell_type": "markdown",
   "metadata": {},
   "source": [
    "we got n_estimator=500 as best with learning_rate=0.05  . Next we'll tune max_depth,gamma and min_child_weight, which control overfit by controlling size of individual trees"
   ]
  },
  {
   "cell_type": "code",
   "execution_count": 91,
   "metadata": {},
   "outputs": [],
   "source": [
    "xgb_params={\n",
    "            \"gamma\":[0,2,5,8,10],\n",
    "            \"max_depth\": [2,3,4,5,6,8,10],\n",
    "            \"min_child_weight\":[0.5,1,2,5,10]\n",
    "            }"
   ]
  },
  {
   "cell_type": "code",
   "execution_count": 92,
   "metadata": {},
   "outputs": [],
   "source": [
    "xgb2=xgbp.XGBClassifier(learning_rate=0.05,subsample=0.6,colsample_bylevel=0.9,colsample_bytree=0.6,n_estimators=500)"
   ]
  },
  {
   "cell_type": "code",
   "execution_count": null,
   "metadata": {},
   "outputs": [],
   "source": [
    "grid_search=GridSearchCV(xgb2,param_grid=xgb_params,cv=5,scoring='roc_auc',\n",
    "                                 n_jobs=-1,verbose=2)"
   ]
  },
  {
   "cell_type": "code",
   "execution_count": 93,
   "metadata": {},
   "outputs": [],
   "source": [
    "random_search=RandomizedSearchCV(xgb2,param_distributions=xgb_params,cv=5,n_iter=10, scoring='roc_auc',\n",
    "                                 n_jobs=-1,verbose=2)"
   ]
  },
  {
   "cell_type": "code",
   "execution_count": 94,
   "metadata": {},
   "outputs": [
    {
     "name": "stdout",
     "output_type": "stream",
     "text": [
      "Fitting 5 folds for each of 10 candidates, totalling 50 fits\n"
     ]
    },
    {
     "name": "stderr",
     "output_type": "stream",
     "text": [
      "[Parallel(n_jobs=-1)]: Using backend LokyBackend with 4 concurrent workers.\n",
      "[Parallel(n_jobs=-1)]: Done  33 tasks      | elapsed: 29.4min\n",
      "[Parallel(n_jobs=-1)]: Done  50 out of  50 | elapsed: 42.2min finished\n"
     ]
    },
    {
     "data": {
      "text/plain": [
       "RandomizedSearchCV(cv=5, error_score='raise-deprecating',\n",
       "                   estimator=XGBClassifier(base_score=None, booster=None,\n",
       "                                           colsample_bylevel=0.9,\n",
       "                                           colsample_bynode=None,\n",
       "                                           colsample_bytree=0.6, gamma=None,\n",
       "                                           gpu_id=None, importance_type='gain',\n",
       "                                           interaction_constraints=None,\n",
       "                                           learning_rate=0.05,\n",
       "                                           max_delta_step=None, max_depth=None,\n",
       "                                           min_child_weight=None, missing=nan,\n",
       "                                           monotone_cons...\n",
       "                                           reg_lambda=None,\n",
       "                                           scale_pos_weight=None, subsample=0.6,\n",
       "                                           tree_method=None,\n",
       "                                           validate_parameters=None,\n",
       "                                           verbosity=None),\n",
       "                   iid='warn', n_iter=10, n_jobs=-1,\n",
       "                   param_distributions={'gamma': [0, 2, 5, 8, 10],\n",
       "                                        'max_depth': [2, 3, 4, 5, 6, 8, 10],\n",
       "                                        'min_child_weight': [0.5, 1, 2, 5, 10]},\n",
       "                   pre_dispatch='2*n_jobs', random_state=None, refit=True,\n",
       "                   return_train_score=False, scoring='roc_auc', verbose=2)"
      ]
     },
     "execution_count": 94,
     "metadata": {},
     "output_type": "execute_result"
    }
   ],
   "source": [
    "random_search.fit(x_train,y_train)"
   ]
  },
  {
   "cell_type": "code",
   "execution_count": 95,
   "metadata": {},
   "outputs": [
    {
     "name": "stdout",
     "output_type": "stream",
     "text": [
      "Model with rank: 1\n",
      "Mean validation score: 0.643 (std: 0.00332)\n",
      "Parameters: {'min_child_weight': 1, 'max_depth': 6, 'gamma': 8}\n",
      "\n",
      "Model with rank: 2\n",
      "Mean validation score: 0.642 (std: 0.00339)\n",
      "Parameters: {'min_child_weight': 0.5, 'max_depth': 5, 'gamma': 8}\n",
      "\n",
      "Model with rank: 3\n",
      "Mean validation score: 0.642 (std: 0.00345)\n",
      "Parameters: {'min_child_weight': 10, 'max_depth': 4, 'gamma': 0}\n",
      "\n"
     ]
    }
   ],
   "source": [
    "report(random_search.cv_results_,3)"
   ]
  },
  {
   "cell_type": "markdown",
   "metadata": {},
   "source": [
    "we got best values for parameters being tuned as follows : {'min_child_weight': 1, 'gamma': 8, 'max_depth': 6}"
   ]
  },
  {
   "cell_type": "markdown",
   "metadata": {},
   "source": [
    "Since there is imbalance in the data , we'll look into max_delta_step and scale_pos_weight next"
   ]
  },
  {
   "cell_type": "code",
   "execution_count": 96,
   "metadata": {},
   "outputs": [],
   "source": [
    "xgb_params={\n",
    "            'max_delta_step':[0,1,3,6,10],\n",
    "            'scale_pos_weight':[1,2,3,4]\n",
    "            }"
   ]
  },
  {
   "cell_type": "code",
   "execution_count": 100,
   "metadata": {},
   "outputs": [],
   "source": [
    "xgb3=xgbp.XGBClassifier(min_child_weight=1,gamma=8,max_depth=6,\n",
    "                  learning_rate=0.05,subsample=0.6,colsample_bylevel=0.9,colsample_bytree=0.6,n_estimators=500)"
   ]
  },
  {
   "cell_type": "code",
   "execution_count": 101,
   "metadata": {},
   "outputs": [],
   "source": [
    "grid_search=GridSearchCV(xgb3,param_grid=xgb_params,cv=5,scoring='roc_auc',n_jobs=-1,verbose=10)"
   ]
  },
  {
   "cell_type": "code",
   "execution_count": 102,
   "metadata": {},
   "outputs": [
    {
     "name": "stdout",
     "output_type": "stream",
     "text": [
      "Fitting 5 folds for each of 20 candidates, totalling 100 fits\n"
     ]
    },
    {
     "name": "stderr",
     "output_type": "stream",
     "text": [
      "[Parallel(n_jobs=-1)]: Using backend LokyBackend with 4 concurrent workers.\n",
      "[Parallel(n_jobs=-1)]: Done   5 tasks      | elapsed: 581.5min\n",
      "[Parallel(n_jobs=-1)]: Done  10 tasks      | elapsed: 591.3min\n",
      "[Parallel(n_jobs=-1)]: Done  17 tasks      | elapsed: 855.3min\n",
      "[Parallel(n_jobs=-1)]: Done  24 tasks      | elapsed: 869.0min\n",
      "[Parallel(n_jobs=-1)]: Done  33 tasks      | elapsed: 903.8min\n",
      "[Parallel(n_jobs=-1)]: Done  42 tasks      | elapsed: 928.6min\n",
      "[Parallel(n_jobs=-1)]: Done  53 tasks      | elapsed: 969.4min\n",
      "[Parallel(n_jobs=-1)]: Done  64 tasks      | elapsed: 1004.7min\n",
      "[Parallel(n_jobs=-1)]: Done  77 tasks      | elapsed: 1052.5min\n",
      "[Parallel(n_jobs=-1)]: Done  90 tasks      | elapsed: 1084.3min\n",
      "[Parallel(n_jobs=-1)]: Done 100 out of 100 | elapsed: 1106.3min finished\n"
     ]
    },
    {
     "data": {
      "text/plain": [
       "GridSearchCV(cv=5, error_score='raise-deprecating',\n",
       "             estimator=XGBClassifier(base_score=None, booster=None,\n",
       "                                     colsample_bylevel=0.9,\n",
       "                                     colsample_bynode=None,\n",
       "                                     colsample_bytree=0.6, gamma=8, gpu_id=None,\n",
       "                                     importance_type='gain',\n",
       "                                     interaction_constraints=None,\n",
       "                                     learning_rate=0.05, max_delta_step=None,\n",
       "                                     max_depth=6, min_child_weight=1,\n",
       "                                     missing=nan, monotone_constraints=None,\n",
       "                                     n_...\n",
       "                                     objective='binary:logistic',\n",
       "                                     random_state=None, reg_alpha=None,\n",
       "                                     reg_lambda=None, scale_pos_weight=None,\n",
       "                                     subsample=0.6, tree_method=None,\n",
       "                                     validate_parameters=None, verbosity=None),\n",
       "             iid='warn', n_jobs=-1,\n",
       "             param_grid={'max_delta_step': [0, 1, 3, 6, 10],\n",
       "                         'scale_pos_weight': [1, 2, 3, 4]},\n",
       "             pre_dispatch='2*n_jobs', refit=True, return_train_score=False,\n",
       "             scoring='roc_auc', verbose=10)"
      ]
     },
     "execution_count": 102,
     "metadata": {},
     "output_type": "execute_result"
    }
   ],
   "source": [
    "grid_search.fit(x_train,y_train)"
   ]
  },
  {
   "cell_type": "code",
   "execution_count": 103,
   "metadata": {},
   "outputs": [
    {
     "name": "stdout",
     "output_type": "stream",
     "text": [
      "Model with rank: 1\n",
      "Mean validation score: 0.643 (std: 0.00329)\n",
      "Parameters: {'max_delta_step': 3, 'scale_pos_weight': 1}\n",
      "\n",
      "Model with rank: 2\n",
      "Mean validation score: 0.643 (std: 0.00332)\n",
      "Parameters: {'max_delta_step': 0, 'scale_pos_weight': 1}\n",
      "\n",
      "Model with rank: 2\n",
      "Mean validation score: 0.643 (std: 0.00332)\n",
      "Parameters: {'max_delta_step': 6, 'scale_pos_weight': 1}\n",
      "\n",
      "Model with rank: 2\n",
      "Mean validation score: 0.643 (std: 0.00332)\n",
      "Parameters: {'max_delta_step': 10, 'scale_pos_weight': 1}\n",
      "\n"
     ]
    }
   ],
   "source": [
    "report(grid_search.cv_results_,3)"
   ]
  },
  {
   "cell_type": "markdown",
   "metadata": {},
   "source": [
    "it turns out that , since imbalance was not that severe , defaults come out as best choices {'scale_pos_weight': 1, 'max_delta_step': 3}"
   ]
  },
  {
   "cell_type": "markdown",
   "metadata": {},
   "source": [
    "Next we check the effect of the noise on data and tune , subsample , colsample_bytree and colsample_bylevel"
   ]
  },
  {
   "cell_type": "code",
   "execution_count": 104,
   "metadata": {},
   "outputs": [],
   "source": [
    "xgb_params={\n",
    "            'subsample':[i/10 for i in range(5,11)],\n",
    "            'colsample_bytree':[i/10 for i in range(5,11)],\n",
    "            'colsample_bylevel':[i/10 for i in range(5,11)]\n",
    "            }"
   ]
  },
  {
   "cell_type": "code",
   "execution_count": 105,
   "metadata": {},
   "outputs": [],
   "source": [
    "xgb4=xgbp.XGBClassifier(min_child_weight=1,gamma=8,max_depth=6,\n",
    "                  learning_rate=0.05,n_estimators=500,\n",
    "                        scale_pos_weight=1,max_delta_step=3\n",
    "                  )"
   ]
  },
  {
   "cell_type": "code",
   "execution_count": null,
   "metadata": {},
   "outputs": [],
   "source": [
    "min_child_weight=10,gamma=10,max_depth=6,\n",
    "                  learning_rate=0.1,subsample=0.7,colsample_bylevel=0.8,colsample_bytree=0.5,n_estimators=500"
   ]
  },
  {
   "cell_type": "code",
   "execution_count": 109,
   "metadata": {},
   "outputs": [],
   "source": [
    "random_search=RandomizedSearchCV(xgb4,param_distributions=xgb_params,cv=5,n_iter=10,scoring='roc_auc',\n",
    "                                n_jobs=-1,verbose=20)"
   ]
  },
  {
   "cell_type": "code",
   "execution_count": 110,
   "metadata": {},
   "outputs": [
    {
     "name": "stdout",
     "output_type": "stream",
     "text": [
      "Fitting 5 folds for each of 10 candidates, totalling 50 fits\n"
     ]
    },
    {
     "name": "stderr",
     "output_type": "stream",
     "text": [
      "[Parallel(n_jobs=-1)]: Using backend LokyBackend with 4 concurrent workers.\n",
      "[Parallel(n_jobs=-1)]: Done   1 tasks      | elapsed: 11.7min\n",
      "[Parallel(n_jobs=-1)]: Done   2 tasks      | elapsed: 11.7min\n",
      "[Parallel(n_jobs=-1)]: Done   3 tasks      | elapsed: 11.7min\n",
      "[Parallel(n_jobs=-1)]: Done   4 tasks      | elapsed: 11.8min\n",
      "[Parallel(n_jobs=-1)]: Done   5 tasks      | elapsed: 22.6min\n",
      "[Parallel(n_jobs=-1)]: Done   6 tasks      | elapsed: 26.3min\n",
      "[Parallel(n_jobs=-1)]: Done   7 tasks      | elapsed: 26.3min\n",
      "[Parallel(n_jobs=-1)]: Done   8 tasks      | elapsed: 26.3min\n",
      "[Parallel(n_jobs=-1)]: Done   9 tasks      | elapsed: 35.4min\n",
      "[Parallel(n_jobs=-1)]: Done  10 tasks      | elapsed: 35.4min\n",
      "[Parallel(n_jobs=-1)]: Done  11 tasks      | elapsed: 37.1min\n",
      "[Parallel(n_jobs=-1)]: Done  12 tasks      | elapsed: 41.1min\n",
      "[Parallel(n_jobs=-1)]: Done  13 tasks      | elapsed: 44.4min\n",
      "[Parallel(n_jobs=-1)]: Done  14 tasks      | elapsed: 44.5min\n",
      "[Parallel(n_jobs=-1)]: Done  15 tasks      | elapsed: 46.2min\n",
      "[Parallel(n_jobs=-1)]: Done  16 tasks      | elapsed: 50.5min\n",
      "[Parallel(n_jobs=-1)]: Done  17 tasks      | elapsed: 53.8min\n",
      "[Parallel(n_jobs=-1)]: Done  18 tasks      | elapsed: 53.8min\n",
      "[Parallel(n_jobs=-1)]: Done  19 tasks      | elapsed: 55.5min\n",
      "[Parallel(n_jobs=-1)]: Done  20 tasks      | elapsed: 60.2min\n",
      "[Parallel(n_jobs=-1)]: Done  21 tasks      | elapsed: 65.0min\n",
      "[Parallel(n_jobs=-1)]: Done  22 tasks      | elapsed: 65.0min\n",
      "[Parallel(n_jobs=-1)]: Done  23 tasks      | elapsed: 66.8min\n",
      "[Parallel(n_jobs=-1)]: Done  24 tasks      | elapsed: 71.4min\n",
      "[Parallel(n_jobs=-1)]: Done  25 tasks      | elapsed: 76.1min\n",
      "[Parallel(n_jobs=-1)]: Done  26 tasks      | elapsed: 77.5min\n",
      "[Parallel(n_jobs=-1)]: Done  27 tasks      | elapsed: 79.2min\n",
      "[Parallel(n_jobs=-1)]: Done  28 tasks      | elapsed: 83.6min\n",
      "[Parallel(n_jobs=-1)]: Done  29 tasks      | elapsed: 88.2min\n",
      "[Parallel(n_jobs=-1)]: Done  30 tasks      | elapsed: 89.9min\n",
      "[Parallel(n_jobs=-1)]: Done  31 tasks      | elapsed: 91.8min\n",
      "[Parallel(n_jobs=-1)]: Done  32 tasks      | elapsed: 96.3min\n",
      "[Parallel(n_jobs=-1)]: Done  33 tasks      | elapsed: 101.2min\n",
      "[Parallel(n_jobs=-1)]: Done  34 tasks      | elapsed: 102.7min\n",
      "[Parallel(n_jobs=-1)]: Done  35 tasks      | elapsed: 104.6min\n",
      "[Parallel(n_jobs=-1)]: Done  36 tasks      | elapsed: 109.2min\n",
      "[Parallel(n_jobs=-1)]: Done  37 tasks      | elapsed: 113.7min\n",
      "[Parallel(n_jobs=-1)]: Done  38 tasks      | elapsed: 115.2min\n",
      "[Parallel(n_jobs=-1)]: Done  39 tasks      | elapsed: 117.0min\n",
      "[Parallel(n_jobs=-1)]: Done  40 tasks      | elapsed: 121.6min\n",
      "[Parallel(n_jobs=-1)]: Done  41 tasks      | elapsed: 124.3min\n",
      "[Parallel(n_jobs=-1)]: Done  42 tasks      | elapsed: 125.7min\n",
      "[Parallel(n_jobs=-1)]: Done  43 tasks      | elapsed: 127.6min\n",
      "[Parallel(n_jobs=-1)]: Done  46 out of  50 | elapsed: 140.2min remaining: 12.2min\n",
      "[Parallel(n_jobs=-1)]: Done  50 out of  50 | elapsed: 149.5min finished\n"
     ]
    },
    {
     "data": {
      "text/plain": [
       "RandomizedSearchCV(cv=5, error_score='raise-deprecating',\n",
       "                   estimator=XGBClassifier(base_score=None, booster=None,\n",
       "                                           colsample_bylevel=None,\n",
       "                                           colsample_bynode=None,\n",
       "                                           colsample_bytree=None, gamma=8,\n",
       "                                           gpu_id=None, importance_type='gain',\n",
       "                                           interaction_constraints=None,\n",
       "                                           learning_rate=0.05, max_delta_step=3,\n",
       "                                           max_depth=6, min_child_weight=1,\n",
       "                                           missing=nan,\n",
       "                                           monotone_constraints=No...\n",
       "                                           subsample=None, tree_method=None,\n",
       "                                           validate_parameters=None,\n",
       "                                           verbosity=None),\n",
       "                   iid='warn', n_iter=10, n_jobs=-1,\n",
       "                   param_distributions={'colsample_bylevel': [0.5, 0.6, 0.7,\n",
       "                                                              0.8, 0.9, 1.0],\n",
       "                                        'colsample_bytree': [0.5, 0.6, 0.7, 0.8,\n",
       "                                                             0.9, 1.0],\n",
       "                                        'subsample': [0.5, 0.6, 0.7, 0.8, 0.9,\n",
       "                                                      1.0]},\n",
       "                   pre_dispatch='2*n_jobs', random_state=None, refit=True,\n",
       "                   return_train_score=False, scoring='roc_auc', verbose=20)"
      ]
     },
     "execution_count": 110,
     "metadata": {},
     "output_type": "execute_result"
    }
   ],
   "source": [
    "random_search.fit(x_train,y_train)"
   ]
  },
  {
   "cell_type": "code",
   "execution_count": 111,
   "metadata": {},
   "outputs": [
    {
     "name": "stdout",
     "output_type": "stream",
     "text": [
      "Model with rank: 1\n",
      "Mean validation score: 0.642 (std: 0.00289)\n",
      "Parameters: {'subsample': 0.7, 'colsample_bytree': 0.9, 'colsample_bylevel': 0.9}\n",
      "\n",
      "Model with rank: 2\n",
      "Mean validation score: 0.642 (std: 0.00305)\n",
      "Parameters: {'subsample': 0.8, 'colsample_bytree': 0.7, 'colsample_bylevel': 0.7}\n",
      "\n",
      "Model with rank: 3\n",
      "Mean validation score: 0.642 (std: 0.00294)\n",
      "Parameters: {'subsample': 0.7, 'colsample_bytree': 0.7, 'colsample_bylevel': 0.9}\n",
      "\n"
     ]
    }
   ],
   "source": [
    "report(random_search.cv_results_,3)"
   ]
  },
  {
   "cell_type": "markdown",
   "metadata": {},
   "source": [
    "The best value that we got here is {'colsample_bylevel': 0.5, 'colsample_bytree': 0.6, 'subsample': 1.0}, but the performance has gone down. May be the default was doing better and wasnt picked as one of the candidates here in the random_search. we'll go with those defaults values instead"
   ]
  },
  {
   "cell_type": "code",
   "execution_count": 113,
   "metadata": {},
   "outputs": [],
   "source": [
    "xgb5=xgbp.XGBClassifier(min_child_weight=1,gamma=8,max_depth=6,\n",
    "                  learning_rate=0.05,subsample=0.6,colsample_bylevel=0.9,colsample_bytree=0.6,n_estimators=500,\n",
    "                        scale_pos_weight=1,max_delta_step=3)"
   ]
  },
  {
   "cell_type": "markdown",
   "metadata": {},
   "source": [
    "If we want to simply get cv performance of a model , without having to select any parameters we can make use of cross_validation_score function"
   ]
  },
  {
   "cell_type": "code",
   "execution_count": 114,
   "metadata": {},
   "outputs": [],
   "source": [
    "from sklearn.model_selection import cross_val_score"
   ]
  },
  {
   "cell_type": "code",
   "execution_count": 115,
   "metadata": {},
   "outputs": [
    {
     "name": "stderr",
     "output_type": "stream",
     "text": [
      "[Parallel(n_jobs=-1)]: Using backend LokyBackend with 4 concurrent workers.\n",
      "[Parallel(n_jobs=-1)]: Done   5 out of  10 | elapsed: 26.1min remaining: 26.1min\n",
      "[Parallel(n_jobs=-1)]: Done   7 out of  10 | elapsed: 26.2min remaining: 11.2min\n",
      "[Parallel(n_jobs=-1)]: Done  10 out of  10 | elapsed: 35.2min finished\n"
     ]
    },
    {
     "data": {
      "text/plain": [
       "array([0.64482213, 0.64506709, 0.64593844, 0.64489516, 0.63953044,\n",
       "       0.63823534, 0.63920442, 0.64010355, 0.63948859, 0.65196486])"
      ]
     },
     "execution_count": 115,
     "metadata": {},
     "output_type": "execute_result"
    }
   ],
   "source": [
    "cross_val_score(xgb5,x_train,y_train,scoring='roc_auc',verbose=10,n_jobs=-1,cv=10)"
   ]
  },
  {
   "cell_type": "code",
   "execution_count": 116,
   "metadata": {},
   "outputs": [],
   "source": [
    "t_score=grid_search.predict_proba(x_train)[:,1]"
   ]
  },
  {
   "cell_type": "code",
   "execution_count": 117,
   "metadata": {},
   "outputs": [],
   "source": [
    "fb_all=[]\n",
    "KSvalue_all=[]\n",
    "\n",
    "for cutoff in cutoffs:\n",
    "    \n",
    "    predicted=(t_score>cutoff).astype(int)\n",
    "\n",
    "    TP=((predicted==1) & (real==1)).sum()\n",
    "    TN=((predicted==0) & (real==0)).sum()\n",
    "    FP=((predicted==1) & (real==0)).sum()\n",
    "    FN=((predicted==0) & (real==1)).sum()\n",
    "    \n",
    "    P=TP+FN\n",
    "    N=TN+FP\n",
    "      \n",
    "    KSvalue=(TP/P)-(FP/N)\n",
    "    \n",
    "    KSvalue_all.append(KSvalue)\n",
    "    fb=fbeta_score(predicted, real, beta=1)\n",
    "    fb_all.append(fb)\n",
    "    "
   ]
  },
  {
   "cell_type": "code",
   "execution_count": 118,
   "metadata": {},
   "outputs": [
    {
     "data": {
      "text/plain": [
       "0.21000000000000002"
      ]
     },
     "execution_count": 118,
     "metadata": {},
     "output_type": "execute_result"
    }
   ],
   "source": [
    "maxFb=cutoffs[fb_all==max(fb_all)][0]\n",
    "maxFb"
   ]
  },
  {
   "cell_type": "code",
   "execution_count": 119,
   "metadata": {},
   "outputs": [
    {
     "data": {
      "text/plain": [
       "0.4216347235426025"
      ]
     },
     "execution_count": 119,
     "metadata": {},
     "output_type": "execute_result"
    }
   ],
   "source": [
    "max(fb_all)"
   ]
  },
  {
   "cell_type": "markdown",
   "metadata": {},
   "source": [
    "To submit probability scores , I am doing this:"
   ]
  },
  {
   "cell_type": "code",
   "execution_count": 120,
   "metadata": {},
   "outputs": [],
   "source": [
    "test_score=grid_search.predict_proba(test)[:,1]\n",
    "pd.DataFrame(test_score).to_csv(\"mysubmission_bank_finance.csv\",index=False)"
   ]
  },
  {
   "cell_type": "code",
   "execution_count": 121,
   "metadata": {},
   "outputs": [
    {
     "data": {
      "text/plain": [
       "array([0.1159777 , 0.25764084, 0.3030352 , ..., 0.13514903, 0.24300048,\n",
       "       0.3132214 ], dtype=float32)"
      ]
     },
     "execution_count": 121,
     "metadata": {},
     "output_type": "execute_result"
    }
   ],
   "source": [
    "test_score"
   ]
  },
  {
   "cell_type": "markdown",
   "metadata": {},
   "source": [
    "Submitting the hardclasses:"
   ]
  },
  {
   "cell_type": "code",
   "execution_count": 122,
   "metadata": {},
   "outputs": [],
   "source": [
    "test_classes=(test_score>mycutoff).astype(int)"
   ]
  },
  {
   "cell_type": "code",
   "execution_count": 123,
   "metadata": {},
   "outputs": [
    {
     "data": {
      "text/plain": [
       "0    46411\n",
       "1      220\n",
       "Name: cls, dtype: int64"
      ]
     },
     "execution_count": 123,
     "metadata": {},
     "output_type": "execute_result"
    }
   ],
   "source": [
    "a=pd.DataFrame(test_classes,columns=['cls'])\n",
    "a['cls'].value_counts()\n",
    "#a.info()"
   ]
  },
  {
   "cell_type": "code",
   "execution_count": 124,
   "metadata": {},
   "outputs": [
    {
     "data": {
      "text/plain": [
       "(array([0, 1]), array([46411,   220], dtype=int64))"
      ]
     },
     "execution_count": 124,
     "metadata": {},
     "output_type": "execute_result"
    }
   ],
   "source": [
    "np.unique(test_classes,return_counts=True)"
   ]
  },
  {
   "cell_type": "code",
   "execution_count": 125,
   "metadata": {},
   "outputs": [],
   "source": [
    "pd.DataFrame(test_classes).to_csv(\"mysubmission.csv\",index=False)"
   ]
  }
 ],
 "metadata": {
  "kernelspec": {
   "display_name": "Python 3",
   "language": "python",
   "name": "python3"
  },
  "language_info": {
   "codemirror_mode": {
    "name": "ipython",
    "version": 3
   },
   "file_extension": ".py",
   "mimetype": "text/x-python",
   "name": "python",
   "nbconvert_exporter": "python",
   "pygments_lexer": "ipython3",
   "version": "3.7.4"
  }
 },
 "nbformat": 4,
 "nbformat_minor": 4
}
